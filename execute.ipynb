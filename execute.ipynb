{
 "cells": [
  {
   "cell_type": "code",
   "execution_count": null,
   "metadata": {},
   "outputs": [
    {
     "name": "stdout",
     "output_type": "stream",
     "text": [
      "\n",
      "---- old.bible.txt ----\n",
      "\n"
     ]
    },
    {
     "name": "stderr",
     "output_type": "stream",
     "text": [
      "100%|██████████| 108346/108346 [00:00<00:00, 1202036.90it/s]\n"
     ]
    },
    {
     "name": "stdout",
     "output_type": "stream",
     "text": [
      "\n",
      "---- new.bible.txt ----\n",
      "\n"
     ]
    },
    {
     "name": "stderr",
     "output_type": "stream",
     "text": [
      "100%|██████████| 29549/29549 [00:00<00:00, 1634175.30it/s]\n"
     ]
    }
   ],
   "source": [
    "# Chapter という文字列が含まれる行を抽出して別ファイルに保存する\n",
    "# 抽出結果を書き込んだファイルを確認し、文中にChapterが含まれる行があるか確認する\n",
    "\n",
    "import os\n",
    "import re\n",
    "from tqdm import tqdm\n",
    "\n",
    "# ディレクトリの指定\n",
    "source_directory = './texts'\n",
    "check_directory = './check'\n",
    "\n",
    "# 旧約を先にする\n",
    "paths = sorted(os.listdir(source_directory), reverse=True)\n",
    "\n",
    "for path in paths:\n",
    "\tprint(f\"\\n---- {path} ----\\n\")\n",
    "\twith open(f'{source_directory}/{path}', mode='r', encoding='utf-8') as f:\n",
    "\t\tlines = f.readlines()\n",
    "\t\twith open(f'{check_directory}/{path.replace(\"bible\", \"chapters\")}', mode='w', encoding='utf-8') as g:\n",
    "\t\t\tfor line in tqdm(lines):\n",
    "\t\t\t\tif (re.search(r'Chapter', line)): g.write(line)"
   ]
  },
  {
   "cell_type": "code",
   "execution_count": null,
   "metadata": {},
   "outputs": [
    {
     "name": "stdout",
     "output_type": "stream",
     "text": [
      "\n",
      "---- old.bible.txt ----\n",
      "\n"
     ]
    },
    {
     "name": "stderr",
     "output_type": "stream",
     "text": [
      "100%|██████████| 108347/108347 [00:00<00:00, 186862.88it/s]\n"
     ]
    },
    {
     "name": "stdout",
     "output_type": "stream",
     "text": [
      "\n",
      "---- new.bible.txt ----\n",
      "\n"
     ]
    },
    {
     "name": "stderr",
     "output_type": "stream",
     "text": [
      "100%|██████████| 29550/29550 [00:00<00:00, 125355.44it/s]\n"
     ]
    }
   ],
   "source": [
    "# 旧約と新約で形式が少し違うため、形式をそろえる。\n",
    "# Chapterごとに分類できるように無駄な文字を削除する\n",
    "#\n",
    "# ex)\n",
    "# 1. Matther Chapter 1\t \t\t-> Matther Chapter\n",
    "# 2. Matther Chapter 2~ \t\t-> None\n",
    "# 3. ~:~\t\t\t\t   \t\t-> None\n",
    "# 4. THE BOOK OF ~\t\t \t\t-> None\n",
    "# 5. \\n\t\t\t\t\t   \t\t-> None\n",
    "\n",
    "import os\n",
    "import re\n",
    "from tqdm import tqdm\n",
    "\n",
    "# ディレクトリの指定\n",
    "source_directory = './texts'\n",
    "target_directory = './clean'\n",
    "\n",
    "# 旧約を先にする\n",
    "paths = sorted(os.listdir(source_directory), reverse=True)\n",
    "\n",
    "pattern12 = re.compile(r'^[0-9]?\\s?[A-Za-z]+ Chapter [0-9]+$')\n",
    "pattern3  = re.compile(r'^[0-9]+:[0-9]+.\\s')\n",
    "pattern45 = re.compile(r'^[THE BOOK OF [A-Z]+|\\n')\n",
    "\n",
    "for path in paths:\n",
    "\tprint(f\"\\n---- {path} ----\\n\")\n",
    "\n",
    "\twith open(f'{source_directory}/{path}', mode='r', encoding='utf-8') as f:\n",
    "\t\tlines = f.readlines()\n",
    "\n",
    "\t\twith open(f'{target_directory}/{path}', mode='w', encoding='utf-8') as g:\n",
    "\t\t\tfor line in tqdm(lines):\n",
    "\t\t\t\tif (re.match(pattern12, line)):\n",
    "\t\t\t\t\tmatch (line.strip().split()[-1]):\n",
    "\t\t\t\t\t\tcase '1':\n",
    "\t\t\t\t\t\t\tline = re.sub(r'[0-9]+ ', '', line)\n",
    "\t\t\t\t\t\t\tline = re.sub('Chapter 1', 'Chapter', line)\n",
    "\t\t\t\t\t\t\tg.write(line)\n",
    "\t\t\t\t\t\tcase _:\n",
    "\t\t\t\t\t\t\tcontinue\n",
    "\t\t\t\telif (re.match(pattern3, line)): g.write(re.sub(pattern3, '', line))\n",
    "\t\t\t\telif (re.match(pattern45, line)): continue\n",
    "\t\t\t\telse: g.write(line)"
   ]
  },
  {
   "cell_type": "code",
   "execution_count": 113,
   "metadata": {},
   "outputs": [
    {
     "name": "stdout",
     "output_type": "stream",
     "text": [
      "\n",
      "---- old.bible.txt ----\n",
      "\n"
     ]
    },
    {
     "name": "stderr",
     "output_type": "stream",
     "text": [
      "100%|██████████| 68802/68802 [00:19<00:00, 3556.44it/s]\n"
     ]
    },
    {
     "name": "stdout",
     "output_type": "stream",
     "text": [
      "\n",
      "---- new.bible.txt ----\n",
      "\n"
     ]
    },
    {
     "name": "stderr",
     "output_type": "stream",
     "text": [
      "100%|██████████| 18503/18503 [00:05<00:00, 3437.96it/s]\n"
     ]
    }
   ],
   "source": [
    "# 章ごとに別々のファイルに抽出する。\n",
    "\n",
    "import os\n",
    "import re\n",
    "from tqdm import tqdm\n",
    "from shutil import rmtree\n",
    "\n",
    "# ディレクトリの指定\n",
    "source_directory = './clean'\n",
    "\n",
    "# 旧約を先にする\n",
    "paths = sorted(os.listdir(source_directory), reverse=True)\n",
    "\n",
    "for path in paths:\n",
    "\tif path.split('.')[-1] != 'txt': continue\n",
    "\t\n",
    "\tprint(f\"\\n---- {path} ----\\n\")\n",
    "\tif (os.path.exists(f\"{source_directory}/{path.split('.')[0]}\")):\n",
    "\t\trmtree(f\"{source_directory}/{path.split('.')[0]}\")\n",
    "\t\tos.mkdir(f\"{source_directory}/{path.split('.')[0]}\")\n",
    "\n",
    "\twith open(f'{source_directory}/{path}', mode='r', encoding='utf-8') as f:\n",
    "\t\tlines = f.readlines()\n",
    "\n",
    "\ttarget_directory = None\n",
    "\tfor line in tqdm(lines):\n",
    "\t\tif (re.search(r'[A-Za-z]+ Chapter$', line)):\n",
    "\t\t\ttarget_directory = f\"{source_directory}/{path.split('.')[0]}/{line.split()[0]}.txt\"\n",
    "\t\telif target_directory is None: continue\n",
    "\t\telse:\n",
    "\t\t\twith open(target_directory, mode='a', encoding='utf-8') as g:\n",
    "\t\t\t\tg.write(line)"
   ]
  }
 ],
 "metadata": {
  "kernelspec": {
   "display_name": ".venv",
   "language": "python",
   "name": "python3"
  },
  "language_info": {
   "codemirror_mode": {
    "name": "ipython",
    "version": 3
   },
   "file_extension": ".py",
   "mimetype": "text/x-python",
   "name": "python",
   "nbconvert_exporter": "python",
   "pygments_lexer": "ipython3",
   "version": "3.11.9"
  }
 },
 "nbformat": 4,
 "nbformat_minor": 2
}
