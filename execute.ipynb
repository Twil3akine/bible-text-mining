{
 "cells": [
  {
   "cell_type": "code",
   "execution_count": 33,
   "metadata": {},
   "outputs": [
    {
     "name": "stdout",
     "output_type": "stream",
     "text": [
      "\n",
      "---- old.bible.txt ----\n",
      "\n"
     ]
    },
    {
     "name": "stderr",
     "output_type": "stream",
     "text": [
      "100%|██████████| 108347/108347 [00:00<00:00, 901207.63it/s]\n"
     ]
    },
    {
     "name": "stdout",
     "output_type": "stream",
     "text": [
      "\n",
      "---- new.bible.txt ----\n",
      "\n"
     ]
    },
    {
     "name": "stderr",
     "output_type": "stream",
     "text": [
      "100%|██████████| 29550/29550 [00:00<00:00, 1150719.38it/s]\n"
     ]
    }
   ],
   "source": [
    "# Chapter という文字列が含まれる行を抽出して別ファイルに保存する\n",
    "# 抽出結果を書き込んだファイルを確認し、文中にChapterが含まれる行があるか確認する\n",
    "\n",
    "import os\n",
    "import re\n",
    "from tqdm import tqdm\n",
    "\n",
    "# ディレクトリの指定\n",
    "source_directory = './texts'\n",
    "check_directory = './check'\n",
    "\n",
    "# 旧約を先にする\n",
    "paths = sorted(os.listdir(source_directory), reverse=True)\n",
    "\n",
    "for path in paths:\n",
    "\tprint(f\"\\n---- {path} ----\\n\")\n",
    "\twith open(f'{source_directory}/{path}', mode='r', encoding='utf-8') as f:\n",
    "\t\tlines = f.readlines()\n",
    "\t\twith open(f'{check_directory}/{path.replace(\"bible\", \"chapters\")}', mode='w', encoding='utf-8') as g:\n",
    "\t\t\tfor line in tqdm(lines):\n",
    "\t\t\t\tif (re.search(r'Chapter', line)): g.write(line)"
   ]
  },
  {
   "cell_type": "code",
   "execution_count": 43,
   "metadata": {},
   "outputs": [
    {
     "name": "stdout",
     "output_type": "stream",
     "text": [
      "\n",
      "---- old.bible.txt ----\n",
      "\n"
     ]
    },
    {
     "name": "stderr",
     "output_type": "stream",
     "text": [
      "100%|██████████| 108347/108347 [00:00<00:00, 289783.52it/s]\n"
     ]
    },
    {
     "name": "stdout",
     "output_type": "stream",
     "text": [
      "\n",
      "---- new.bible.txt ----\n",
      "\n"
     ]
    },
    {
     "name": "stderr",
     "output_type": "stream",
     "text": [
      "100%|██████████| 29550/29550 [00:00<00:00, 285407.62it/s]\n"
     ]
    }
   ],
   "source": [
    "# 旧約と新約で形式が少し違うため、形式をそろえる。\n",
    "# Chapterごとに分類できるように無駄な文字を削除する\n",
    "#\n",
    "# ex)\n",
    "# 1. Matther Chapter 1\t \t\t-> Matther Chapter\n",
    "# 2. Matther Chapter 2~ \t\t-> None\n",
    "# 3. ~:~\t\t\t\t   \t\t-> None\n",
    "# 4. THE BOOK OF ~\t\t \t\t-> None\n",
    "# 5. \\n\t\t\t\t\t   \t\t-> None\n",
    "\n",
    "import os\n",
    "import re\n",
    "from tqdm import tqdm\n",
    "\n",
    "# ディレクトリの指定\n",
    "source_directory = './texts'\n",
    "target_directory = './clean'\n",
    "\n",
    "# 旧約を先にする\n",
    "paths = sorted(os.listdir(source_directory), reverse=True)\n",
    "\n",
    "pattern12 = re.compile(r'^[0-9]?\\s?[A-Za-z]+ Chapter [0-9]+$')\n",
    "pattern3  = re.compile(r'^[0-9]+:[0-9]+.\\s')\n",
    "pattern45 = re.compile(r'^[THE BOOK OF [A-Z]+|\\n')\n",
    "\n",
    "for path in paths:\n",
    "\tprint(f\"\\n---- {path} ----\\n\")\n",
    "\n",
    "\twith open(f'{source_directory}/{path}', mode='r', encoding='utf-8') as f:\n",
    "\t\tlines = f.readlines()\n",
    "\n",
    "\t\twith open(f'{target_directory}/{path}', mode='w', encoding='utf-8') as g:\n",
    "\t\t\tfor line in tqdm(lines):\n",
    "\t\t\t\tif (re.match(pattern12, line)):\n",
    "\t\t\t\t\tmatch (line.strip().split()[-1]):\n",
    "\t\t\t\t\t\tcase '1':\n",
    "\t\t\t\t\t\t\tline = re.sub(r'[0-9]+ ', '', line)\n",
    "\t\t\t\t\t\t\tline = re.sub('Chapter 1', 'Chapter', line)\n",
    "\t\t\t\t\t\t\tg.write(line)\n",
    "\t\t\t\t\t\tcase _:\n",
    "\t\t\t\t\t\t\tcontinue\n",
    "\t\t\t\telif (re.match(pattern3, line)): g.write(re.sub(pattern3, '', line))\n",
    "\t\t\t\telif (re.match(pattern45, line)): continue\n",
    "\t\t\t\telse: g.write(line)"
   ]
  },
  {
   "cell_type": "code",
   "execution_count": 1,
   "metadata": {},
   "outputs": [
    {
     "name": "stdout",
     "output_type": "stream",
     "text": [
      "\n",
      "---- old.bible.txt ----\n",
      "\n"
     ]
    },
    {
     "name": "stderr",
     "output_type": "stream",
     "text": [
      "100%|██████████| 68802/68802 [00:15<00:00, 4341.19it/s]\n"
     ]
    },
    {
     "name": "stdout",
     "output_type": "stream",
     "text": [
      "\n",
      "---- new.bible.txt ----\n",
      "\n"
     ]
    },
    {
     "name": "stderr",
     "output_type": "stream",
     "text": [
      "100%|██████████| 18503/18503 [00:04<00:00, 4443.40it/s]\n"
     ]
    }
   ],
   "source": [
    "# 章ごとに別々のファイルに抽出する。\n",
    "\n",
    "import os\n",
    "import re\n",
    "from tqdm import tqdm\n",
    "from shutil import rmtree\n",
    "\n",
    "# ディレクトリの指定\n",
    "source_directory = './clean'\n",
    "\n",
    "# 旧約を先にする\n",
    "paths = sorted(os.listdir(source_directory), reverse=True)\n",
    "\n",
    "for path in paths:\n",
    "\tif path.split('.')[-1] != 'txt': continue\n",
    "\t\n",
    "\tprint(f\"\\n---- {path} ----\\n\")\n",
    "\tif (os.path.exists(f\"{source_directory}/{path.split('.')[0]}\")):\n",
    "\t\trmtree(f\"{source_directory}/{path.split('.')[0]}\")\n",
    "\t\tos.mkdir(f\"{source_directory}/{path.split('.')[0]}\")\n",
    "\n",
    "\twith open(f'{source_directory}/{path}', mode='r', encoding='utf-8') as f:\n",
    "\t\tlines = f.readlines()\n",
    "\n",
    "\ttarget_directory = None\n",
    "\tfor line in tqdm(lines):\n",
    "\t\tif (re.search(r'[A-Za-z]+ Chapter$', line)):\n",
    "\t\t\ttarget_directory = f\"{source_directory}/{path.split('.')[0]}/{line.split()[0]}.txt\"\n",
    "\t\telif target_directory is None: continue\n",
    "\t\telse:\n",
    "\t\t\twith open(target_directory, mode='a', encoding='utf-8') as g:\n",
    "\t\t\t\tg.write(line)"
   ]
  },
  {
   "cell_type": "code",
   "execution_count": 1,
   "metadata": {},
   "outputs": [
    {
     "name": "stderr",
     "output_type": "stream",
     "text": [
      "[nltk_data] Downloading package punkt to\n",
      "[nltk_data]     C:\\Users\\twil3\\AppData\\Roaming\\nltk_data...\n",
      "[nltk_data]   Package punkt is already up-to-date!\n",
      "[nltk_data] Downloading package punkt_tab to\n",
      "[nltk_data]     C:\\Users\\twil3\\AppData\\Roaming\\nltk_data...\n",
      "[nltk_data]   Package punkt_tab is already up-to-date!\n",
      "[nltk_data] Downloading package averaged_perceptron_tagger to\n",
      "[nltk_data]     C:\\Users\\twil3\\AppData\\Roaming\\nltk_data...\n",
      "[nltk_data]   Package averaged_perceptron_tagger is already up-to-\n",
      "[nltk_data]       date!\n",
      "[nltk_data] Downloading package averaged_perceptron_tagger_eng to\n",
      "[nltk_data]     C:\\Users\\twil3\\AppData\\Roaming\\nltk_data...\n",
      "[nltk_data]   Package averaged_perceptron_tagger_eng is already up-to-\n",
      "[nltk_data]       date!\n"
     ]
    },
    {
     "name": "stdout",
     "output_type": "stream",
     "text": [
      "\n"
     ]
    },
    {
     "name": "stderr",
     "output_type": "stream",
     "text": [
      "100%|██████████| 2/2 [00:00<00:00, 39.82it/s]\n"
     ]
    },
    {
     "name": "stdout",
     "output_type": "stream",
     "text": [
      "\n",
      "Vocabulary:\n",
      "{'book': 405, 'generation': 1325, 'jesus': 1876, 'christ': 586, 'son': 3190, 'david': 798, 'theson': 3630, 'abraham': 15, 'isaac': 1815, 'begot': 335, 'jacob': 1857, 'brethren.and': 439, 'judas': 1909, 'phares': 2620, 'zara': 4196, 'thamar': 3383, 'aram': 216, 'naasson': 2367, 'booz': 408, 'rahab': 2790, 'obed': 2424, 'ruth': 2918, 'andand': 126, 'jesse': 1875, 'king': 1943, 'solomon': 3187, 'wife': 4058, 'roboam': 2890, 'abia': 4, 'begotand': 336, 'asa': 230, 'joram': 1893, 'ozias': 2541, 'joatham': 1884, 'achaz': 31, 'ezechias': 1100, 'manasses': 2147, 'amon': 111, 'josias.and': 1900, 'josias': 1899, 'jechonias': 1864, 'brethren': 438, 'babylon.and': 282, 'babylon': 281, 'zorobabel': 4198, 'eliacim': 1013, 'sadoc': 2933, 'mathan': 2181, 'jacob.and': 1858, 'husband': 1718, 'hebrews': 1546, 'notice': 2418, 'women': 4108, 'asthey': 254, 'akin': 79, 'sheweth': 3085, 'other.so': 2525, 'generations': 1328, 'wise': 4080, 'child': 575, 'joseph': 1897, 'man': 2138, 'things': 3688, 'angel': 181, 'sleep': 3164, 'fear': 1147, 'thee': 3450, 'holy': 1674, 'shalt': 3069, 'lordspoke': 2095, 'prophet': 2748, 'behold': 341, 'virgin': 3932, 'forth': 1258, 'name': 2371, 'withus.and': 4095, 'lord': 2075, 'unto': 3882, 'wife.and': 4059, 'andhe': 142, 'children': 578, 'expression': 1095, 'manner': 2154, 'word': 4115, 'whatis': 4013, 'regard': 2819, 'future': 1308, 'raven': 2800, 'waters': 3982, 'earth': 985, 'god': 1361, 'i': 1729, 'till': 3752, 'ofand': 2440, 'holocausts': 1673, 'peace': 2582, 'saith': 2940, 'sit': 3152, 'hand': 1465, 'enemies': 1032, 'footstool': 1236, 'yea': 4161, 'eternity': 1054, 'jerome': 1868, 'firstborn': 1196, 'law': 1986, 'males': 2135, 'womb': 4106, 'israel': 1828, 'ex': 1080, 'therefore': 3592, 'bethlehem': 357, 'juda': 1907, 'days': 808, 'men': 2225, 'east': 994, 'jerusalem': 1869, 'jews': 1879, 'star': 3258, 'him.and': 1601, 'hearing': 1523, 'withhim.and': 4088, 'priests': 2715, 'ofthe': 2481, 'people': 2589, 'land': 1976, 'art': 228, 'theprinces': 3586, 'captain': 515, 'shallrule': 3066, 'time': 3754, 'way': 3986, 'was.and': 3967, 'joy.and': 1904, 'house': 1693, 'hismother': 1651, 'treasures': 3829, 'gifts': 1336, 'gold': 1394, 'frankincense': 1280, 'answer': 195, 'country.and': 735, 'arise': 218, 'mother': 2307, 'egypt': 1005, 'him.who': 1618, 'night': 2399, 'death': 821, 'spoke': 3244, 'son.then': 3193, 'men.then': 2232, 'jeremias': 1865, 'voice': 3941, 'rama': 2796, 'lamentation': 1973, 'mourning': 2321, 'theland': 3516, 'life': 2029, 'child.who': 577, 'israel.but': 1830, 'judea': 1910, 'room': 2901, 'father': 1129, 'thither': 3711, 'quarters': 2782, 'city': 607, 'prophets': 2752, 'preaching': 2686, 'desertof': 865, 'judea.and': 1911, 'penance': 2586, 'kingdom': 1945, 'heaven': 1536, 'scriptures': 2998, 'fathers': 1140, 'amendment': 108, 'sins': 3146, 'crying': 769, 'desert': 863, 'paths.and': 2575, 'john': 1887, 'garment': 1317, 'camel': 504, 'hair': 1461, 'loins': 2070, 'meat': 2210, 'locusts': 2066, 'jordan': 1894, 'sins.and': 3147, 'pharisees': 2621, 'ye': 4160, 'brood': 452, 'wrath': 4150, 'part': 2558, 'latter': 1983, 'matters': 2187, 'worthy': 4146, 'yourselves': 4188, 'stones': 3277, 'axe': 278, 'root': 2903, 'trees': 3834, 'fruit': 1297, 'water': 3980, 'shoes': 3093, 'heshall': 1589, 'ghost': 1334, 'fan': 1120, 'wheat': 4015, 'barn': 297, 'chaff': 546, 'fire.then': 1193, 'cometh': 642, 'galilee': 1313, 'him.but': 1604, 'thou': 3714, 'answering': 197, 'suffer': 3312, 'becometh': 318, 'justice': 1924, 'heavens': 1542, 'spirit': 3240, 'dove': 944, 'inwhom': 1813, 'nights': 2402, 'afterwards': 65, 'mouth': 2322, 'god.then': 1378, 'devil': 883, 'temple': 3365, 'angels': 183, 'charge': 562, 'hands': 1476, 'dash': 792, 'thy': 3736, 'mountain': 2317, 'kingdoms': 1947, 'world': 4135, 'glory': 1352, 'words': 4120, 'ofthem': 2484, 'eyes': 1098, 'satan': 2969, 'tohim.and': 3778, 'dwelt': 977, 'onthe': 2510, 'sea': 2999, 'coast': 629, 'borders': 409, 'zabulon': 4193, 'beyondthe': 363, 'gentiles': 1330, 'darkness': 789, 'hath': 1498, 'light': 2040, 'sat': 2968, 'region': 2820, 'shadow': 3062, 'hand.and': 1466, 'walking': 3954, 'brother': 454, 'fishers': 1200, 'men.and': 2227, 'nets': 2395, 'thence': 3563, 'sonof': 3195, 'ship': 3090, 'them.and': 3525, 'gospel': 1407, 'infirmity': 1766, 'people.and': 2590, 'fame': 1116, 'syria': 3341, 'divers': 915, 'diseases': 901, 'torments': 3798, 'devils': 884, 'jordan.and': 1895, 'multitudes': 2337, 'hewas': 1591, 'disciples': 897, 'theirs': 3509, 'meek': 2214, 'mourn': 2320, 'hunger': 1715, 'thirst': 3697, 'theyshall': 3679, 'merciful': 2240, 'clean': 615, 'heart': 1525, 'childrenof': 583, 'persecution': 2607, 'sake': 2942, 'persecute': 2606, 'rejoice': 2824, 'reward': 2864, 'forso': 1257, 'you.you': 4179, 'salt': 2948, 'savour': 2977, 'nothing': 2416, 'bushel': 472, 'candlestick': 509, 'shine': 3088, 'iam': 1732, 'amen': 107, 'pass': 2568, 'example': 1083, 'authority': 271, 'affirmation': 60, 'truth.he': 3860, 'commandments': 651, 'heaven.of': 1539, 'scribes': 2995, 'observance': 2430, 'account': 26, 'people.you': 2594, 'danger': 784, 'judgment': 1917, 'whosoever': 4051, 'shallbe': 3063, 'fool': 1231, 'hell': 1560, 'council': 725, 'court': 740, 'persons': 2613, 'causes': 535, 'injury': 1780, 'contempt': 699, 'malice': 2136, 'greek': 1433, 'fire': 1189, 'saviour': 2975, 'use': 3894, 'punishments': 2772, 'offer': 2450, 'gift': 1335, 'altar': 101, 'anything': 200, 'offering': 2451, 'agreement': 76, 'betimes': 359, 'whilst': 4039, 'theway': 3659, 'deliver': 846, 'judge': 1912, 'officer': 2454, 'woman': 4103, 'adultery': 49, 'heart.and': 1526, 'right': 2871, 'eye': 1097, 'members': 2223, 'body': 396, 'occasions': 2435, 'whole': 4045, 'bill': 364, 'cause': 533, 'fornication': 1253, 'shaltnot': 3072, 'thyself': 3745, 'oaths': 2423, 'lord.but': 2078, 'throne': 3729, 'honour': 1680, 'defence': 841, 'discourse': 900, 'swear': 3331, 'head': 1509, 'canst': 511, 'speech': 3233, 'strike': 3295, 'cheek': 571, 'patience': 2576, 'injuries': 1779, 'desire': 869, 'revenge': 2863, 'letter': 2018, 'paul': 2580, 'st.': 3250, 'cloak': 619, 'asketh': 243, 'turn': 3864, 'pray': 2677, 'calumniate': 500, 'sun': 3319, 'love': 2101, 'heathens': 1535, 'heavenly': 1541, 'heed': 1550, 'bythem': 492, 'ostentation': 2523, 'please': 2648, 'god.therefore': 1379, 'sound': 3216, 'trumpet': 3850, 'beforethee': 326, 'streets': 3289, 'thatthey': 3403, 'dost': 939, 'alms': 95, 'righthand': 2874, 'thee.and': 3451, 'tostand': 3800, 'corners': 719, 'theymay': 3677, 'enter': 1036, 'chamber': 552, 'door': 936, 'insecret': 1791, 'forthey': 1262, 'speaking': 3231, 'come': 638, 'day': 800, 'bread': 427, 'theand': 3414, 'debts': 829, 'temptation': 3369, 'evil': 1074, 'offences': 2448, 'sad': 2931, 'anoint': 191, 'wash': 3968, 'face': 1102, 'secret': 3011, 'rust': 2917, 'consume': 697, 'thieves': 3683, 'doth': 940, 'treasure': 3828, 'masters': 2180, 'eat': 995, 'raiment': 2791, 'birds': 367, 'air': 77, 'sow': 3221, 'barns': 298, 'value': 3901, 'thought': 3716, 'stature': 3263, 'onecubit': 2506, 'lilies': 2051, 'thefield': 3470, 'these.and': 3617, 'grass': 1419, 'field': 1170, 'oven': 2536, 'faith': 1106, 'morrow': 2302, 'sufficient': 3316, 'measure': 2208, 'beam': 304, 'thyeye': 3739, 'hypocrite': 1727, 'dogs': 931, 'swine': 3336, 'feet': 1155, 'seek': 3023, 'knock': 1957, 'receiveth': 2810, 'stone': 3275, 'fish': 1198, 'serpent': 3046, 'yourchildren': 4182, 'goodthings': 1405, 'gate': 1319, 'isthe': 1836, 'strait': 3284, 'tolife': 3781, 'beware': 362, 'clothing': 622, 'fruits': 1300, 'grapes': 1418, 'ofthorns': 2486, 'figs': 1179, 'thistles': 3708, 'tree': 3832, 'bringeth': 449, 'bring': 448, 'thekingdom': 3513, 'profess': 2734, 'fromme': 1291, 'work': 4123, 'rock': 2891, 'rain': 2792, 'floods': 1217, 'winds': 4072, 'sand': 2960, 'fall': 1113, 'thereof.and': 3596, 'thepeople': 3574, 'admiration': 39, 'power': 2670, 'thescribes': 3616, 'others': 2526, 'storm': 3282, 'thedevils': 3447, 'leper': 2011, 'wilt': 4067, 'leprosy': 2013, 'priest': 2709, 'lieth': 2028, 'home': 1677, 'sick': 3104, 'palsy': 2549, 'thatthou': 3405, 'shouldst': 3099, 'roof': 2900, 'subject': 3301, 'soldiers': 3183, 'servant': 3048, 'it.and': 1839, 'followedhim': 1226, 'israel.and': 1829, 'west': 4010, 'hast': 1492, 'hour.and': 1691, 'lying': 2112, 'fever': 1167, 'evening': 1060, 'spirits': 3242, 'andall': 125, 'orders': 2517, 'water.and': 3981, 'scribe': 2994, 'master': 2178, 'go.and': 1359, 'foxes': 1278, 'holes': 1670, 'theair': 3410, 'nests': 2393, 'head.and': 1510, 'togo': 3775, 'bury': 470, 'father.but': 1132, 'tempest': 3364, 'arose': 226, 'waves': 3985, 'side': 3108, 'thecountry': 3438, 'sepulchres': 3045, 'fierce': 1173, 'way.and': 3987, 'herd': 1579, 'hence': 1569, 'place': 2638, 'waters.and': 3983, 'everything': 1073, 'theysaw': 3678, 'daughter': 793, 'blind': 385, 'city.and': 608, 'abed': 2, 'thoughts': 3717, 'hearts': 1531, 'bed': 319, 'house.and': 1694, 'multitude': 2334, 'thecustom': 3439, 'sinners': 3144, 'health': 1517, 'need': 2387, 'meaneth': 2204, 'mercy': 2242, 'bridegroom': 443, 'thebridegroom': 3424, 'companions': 662, 'nobody': 2404, 'piece': 2626, 'cloth': 620, 'thereof': 3595, 'agreater': 75, 'wine': 4073, 'bottles': 413, 'break': 432, 'disciples.and': 898, 'issue': 1835, 'blood': 387, 'hem': 1566, 'ishall': 1821, 'ruler': 2912, 'girl': 1340, 'maid': 2125, 'hereof': 1582, 'david.and': 799, 'lord.then': 2086, 'prince': 2718, 'cities': 603, 'towns': 3814, 'compassion': 667, 'sheep': 3079, 'labourers': 1964, 'harvest': 1491, 'twelve': 3867, 'thempower': 3555, 'names': 2375, 'apostles': 205, 'philip': 2622, 'samaritans': 2954, 'preach': 2683, 'lepers': 2012, 'silver': 3125, 'money': 2284, 'journey': 1901, 'coats': 633, 'astaff': 252, 'workman': 4126, 'town': 3812, 'inquire': 1789, 'goingforth': 1393, 'dust': 969, 'midst': 2254, 'wolves': 4102, 'serpents': 3047, 'simple': 3132, 'councils': 726, 'andthey': 165, 'governors': 1411, 'kings': 1948, 'testimony': 3381, 'speak': 3227, 'hour': 1690, 'thatspeaketh': 3400, 'you.the': 4177, 'parents': 2557, 'end': 1025, 'disciple': 896, 'theservant': 3623, 'dark': 788, 'ear': 980, 'soul': 3209, 'sparrows': 3226, 'ground': 1441, 'hairs': 1462, 'heaven.but': 1538, 'thedaughter': 3440, 'daughter-in-law': 794, 'effect': 1001, 'reason': 2806, 'obstinate': 2433, 'household.he': 1697, 'ofme': 2470, 'cross': 761, 'me.he': 2192, 'it.he': 1842, 'thename': 3562, 'man.and': 2139, 'ones': 2507, 'burdens.and': 466, 'prison': 2723, 'works': 4129, 'sending': 3037, 'look': 2074, 'making': 2132, 'see': 3018, 'lame': 1972, 'walk': 3952, 'rise': 2877, 'humility': 1712, 'reed': 2815, 'wind': 4068, 'garments': 1318, 'he.and': 1508, 'violence': 3929, 'bear': 305, 'ourselves': 2530, 'perverse': 2614, 'market': 2170, 'drinking': 959, 'aman': 103, 'friend': 1283, 'wisdom': 4078, 'miracles': 2274, 'woe': 4100, 'tyre': 3871, 'sackcloth': 2923, 'ashes.but': 236, 'you.and': 4169, 'thoushalt': 3724, 'sodom': 3177, 'day.but': 802, 'landof': 1978, 'confess': 680, 'prudent': 2768, 'thecome': 3434, 'yoke': 4168, 'learn': 1998, 'rest': 2853, 'burden': 464, 'corn': 716, 'sabbath': 2919, 'ears': 983, 'days.but': 810, 'loaves': 2065, 'ofproposition': 2477, 'sanctuary': 2959, 'thepriests': 3584, 'blame': 373, 'temple.and': 3366, 'sabbath.and': 2920, 'pit': 2634, 'hold': 1667, 'deed': 839, 'days.then': 811, 'stretch': 3293, 'other.and': 2524, 'consultation': 696, 'howthey': 1707, 'theprophet': 3588, 'gentiles.he': 1332, 'cry': 768, 'hisvoice': 1662, 'flax': 1206, 'desolate': 872, 'cast': 526, 'beelzebub': 321, 'goods': 1403, 'sin': 3134, 'blasphemy': 380, 'theis': 3511, 'obstinacy': 2432, 'truth': 3856, 'becausethey': 315, 'repent': 2841, 'church.and': 594, 'itshall': 1852, 'gather': 1322, 'abundance': 19, 'things.but': 3690, 'hereafter': 1580, 'faults': 1144, 'sign': 3116, 'jonas': 1891, 'whale': 4011, 'nights.and': 2403, 'viz.': 3940, 'queen': 2783, 'ends': 1028, 'theearth': 3460, 'places': 2641, 'whence': 4017, 'cameout': 505, 'taketh': 3352, 'andhis': 143, 'thee.but': 3452, 'andwho': 174, 'theservice': 3625, 'affection': 57, 'thewill': 3661, 'election': 1011, 'towards': 3809, 'sister': 3150, 'side.and': 3109, 'hewent': 1592, 'shore.and': 3095, 'parables': 2554, 'stony': 3279, 'away.and': 276, 'thorns': 3712, 'fold': 1224, 'sixty': 3157, 'thirty': 3700, 'mysteries': 2363, 'buthe': 478, 'prophecy': 2745, 'isaias': 1816, 'them.but': 3526, 'thethings': 3646, 'parable': 2553, 'seed': 3020, 'tribulation': 3842, 'care': 520, 'enemy': 1034, 'blade': 372, 'servants': 3051, 'theharvest': 3492, 'reapers': 2805, 'bundles': 463, 'grain': 1415, 'inhis': 1774, 'seeds': 3021, 'herbs': 1578, 'dwell': 971, 'branches': 424, 'hid': 1595, 'measures': 2209, 'meal': 2201, 'andwithout': 178, 'foundation': 1273, 'world.then': 4140, 'burnt': 468, 'scandals': 2986, 'furnace': 1307, 'merchant': 2237, 'pearl': 2585, 'price': 2706, 'kinds': 1942, 'vessels': 3914, 'just.and': 1923, 'householder': 1698, 'thence.and': 3564, 'country': 734, 'carpenter': 522, 'mary': 2176, 'simon': 3131, 'lady': 1966, 'matt': 2185, 'andtherefore': 164, 'style': 3300, 'scripture': 2997, 'relations': 2828, 'sisters': 3151, 'touch': 3806, 'father.and': 1131, 'bound': 417, 'her.and': 1573, 'mind': 2262, 'birthday': 370, 'oath': 2422, 'whatsoever': 4014, 'ask': 241, 'dish': 902, 'table': 3346, 'prison.and': 2724, 'mother.and': 2310, 'cameand': 503, 'heard': 1519, 'foot': 1235, 'cities.and': 604, 'onthem': 2511, 'sick.and': 3105, 'thisis': 3704, 'thegrass': 3489, 'fishes': 1201, 'baskets': 301, 'number': 2420, 'children.and': 579, 'forthwith': 1265, 'watch': 3977, 'sea.and': 3000, 'itis': 1850, 'not.and': 2412, 'me.and': 2188, 'o': 2421, 'didst': 886, 'doubt': 943, 'knowledge': 1961, 'hisgarment': 1641, 'tradition': 3818, 'ancients': 123, 'bread.but': 429, 'thecommandment': 3436, 'death.but': 823, 'profit': 2736, 'assistance': 251, 'support': 3327, 'thelaw': 3518, 'nature': 2382, 'commandment': 649, 'lips': 2056, 'vain': 3898, 'doctrines': 927, 'andcommandments': 134, 'ways': 3990, 'piety': 2628, 'purity': 2774, 'church': 593, 'pastors': 2574, 'tothem': 3804, 'disobedience': 905, 'ordinance': 2518, 'jew': 1878, 'flesh': 1208, 'convert': 712, 'faithful': 1109, 'fasts': 1128, 'cases': 525, 'him.then': 1613, 'thebut': 3426, 'plant': 2647, 'hathnot': 1501, 'leaders': 1997, 'pit.and': 2635, 'goeth': 1390, 'privy': 2729, 'man.for': 2141, 'murders': 2341, 'adulteries': 48, 'fornications': 1255, 'testimonies': 3380, 'coasts': 630, 'mydaughter': 2349, 'away': 275, 'help': 1562, 'thechildren': 3431, 'whelps': 4016, 'seaof': 3005, 'there.and': 3591, 'ground.and': 1442, 'thanks': 3384, 'fill': 1182, 'thousand': 3720, 'beside': 355, 'women.and': 4109, 'andcame': 130, 'passion': 2570, 'followers': 1227, 'themselves.and': 3556, 'weather': 3997, 'sky': 3159, 'morning': 2301, 'signs': 3121, 'times': 3759, 'seeketh': 3024, 'leaven': 2001, 'bread.and': 428, 'doctrine': 925, 'elias': 1014, 'god.and': 1362, 'gates': 1321, 'profession': 2735, 'divinity': 919, 'dignity': 889, 'strength': 3291, 'building': 460, 'governor': 1410, 'language': 1980, 'asif': 239, 'course': 739, 'note': 2415, 'storms': 3283, 'builder': 457, 'powers': 2673, 'fortress': 1268, 'promise': 2740, 'idolatry': 1736, 'heresy': 1583, 'error': 1045, 'prevail': 2705, 'christ.and': 587, 'chief': 574, 'again.and': 66, 'zeal': 4197, 'ver': 3910, 'suffering': 3313, 'divine': 917, 'contradiction': 706, 'turning': 3865, 'ascandal': 231, 'me.for': 2191, 'loss': 2097, 'thesun': 3637, 'snow.and': 3173, 'moses': 2304, 'tabernacles': 3345, 'elias.and': 1015, 'cloud': 623, 'one': 2501, 'vision': 3936, 'himnot': 1622, 'understood': 3879, 'knees': 1955, 'pity': 2637, 'thefire': 3473, 'thechild': 3430, 'toyou': 3815, 'hither': 1664, 'chap': 556, 'kind': 1938, 'prayer': 2678, 'pay': 2581, 'tax': 3357, 'laid': 1967, 'temple.he': 3367, 'opinion': 2512, 'tribute': 3846, 'custom': 777, 'strangers': 3286, 'childrenare': 582, 'stater': 3261, 'refuse': 2818, 'binding': 365, 'themidst': 3547, 'assemblies': 249, 'forgiveness': 1247, 'midstof': 2256, 'heaven.and': 1537, 'me.but': 2190, 'millstone': 2261, 'neck': 2385, 'depth': 858, 'world.and': 4136, 'fire.and': 1190, 'astray': 258, 'mountains': 2318, 'thatone': 3398, 'gain': 1310, 'witnesses': 4098, 'heathen': 1534, 'offend': 2449, 'servants.and': 3052, 'ounce': 2527, 'heshould': 1590, 'debt': 828, 'allthings': 93, 'riches': 2868, 'beginning': 331, 'male': 2134, 'female': 1161, 'godhath': 1384, 'asunder.they': 261, 'hardness': 1484, 'yourheart': 4185, 'wives': 4099, 'itwas': 1854, 'case': 524, 'grace': 1412, 'eunuchs': 1058, 'mothers': 2312, 'text': 3382, 'sense': 3038, 'firm': 1194, 'resolution': 2851, 'order': 2516, 'state': 3260, 'cor': 714, 'murder': 2338, 'youth': 4191, 'thouhast': 3719, 'andcome': 133, 'forhe': 1248, 'ofheaven.and': 2458, 'majesty': 2127, 'seats': 3010, 'tribes': 3841, 'vineyard': 3928, 'manner.but': 2156, 'hire': 1632, 'sons': 3196, 'something': 3189, 'kingdom.and': 1946, 'chalice': 551, 'ten': 3371, 'indignation': 1758, 'brethren.but': 440, 'princesof': 2720, 'exercise': 1088, 'them.it': 3529, 'tominister': 3784, 'redemption': 2814, 'many.and': 2164, 'jericho': 1866, 'havemercy': 1503, 'doto': 941, 'fig': 1177, 'priestsand': 2717, 'mount': 2315, 'olivet': 2500, 'village': 3923, 'ass': 247, 'colt': 637, 'lordhath': 2091, 'tell': 3363, 'sion': 3148, 'foal': 1223, 'uponthem': 3888, 'thereon.and': 3601, 'boughs': 416, 'tables': 3348, 'thehouse': 3498, 'den': 851, 'hearest': 1521, 'infants': 1762, 'praise': 2676, 'shallyou': 3068, 'youshall': 4190, 'baptism': 293, 'butthey': 482, 'themultitude': 3560, 'prophet.and': 2749, 'repentance': 2842, 'sir': 3149, 'thefirst': 3474, 'harlots': 1486, 'hedge': 1548, 'round': 2906, 'tower': 3811, 'husbandmen': 1722, 'servantsto': 3053, 'manner.and': 2155, 'heir': 1556, 'inheritance.and': 1771, 'him.when': 1615, 'andlet': 146, 'builders': 458, 'nation': 2377, 'prophet.in': 2750, 'marriage': 2171, 'forhis': 1251, 'son.and': 3191, 'andanother': 127, 'murderers': 2340, 'city.then': 609, 'highways': 1598, 'marriage.and': 2172, 'guests': 1450, 'wedding': 3998, 'speech.and': 3234, 'theperson': 3575, 'necessity': 2384, 'roman': 2897, 'emperor': 1023, 'wasthe': 3974, 'think': 3694, 'wickedness': 4055, 'image': 1743, 'inscription': 1790, 'thingsthat': 3691, 'die': 887, 'resurrection': 2857, 'thefor': 3476, 'doctor': 923, 'commandment.and': 650, 'tohim': 3777, 'call': 497, 'thyenemies': 3738, 'manfrom': 2148, 'chair': 549, 'not.for': 2413, 'burdens': 465, 'shoulders': 3097, 'finger': 1187, 'foreheads': 1242, 'law.and': 1987, 'feasts': 1152, 'inthe': 1804, 'salutations': 2949, 'none': 2407, 'respect': 2852, 'servant.and': 3049, 'houses': 1700, 'widows': 4057, 'prayers': 2680, 'guides': 1452, 'thetemple': 3640, 'thealtar': 3411, 'dwelleth': 973, 'cummin': 772, 'andnot': 149, 'outside': 2534, 'cup': 773, 'inside': 1792, 'bones': 404, 'hypocrisy': 1726, 'thesepulchres': 3622, 'monuments': 2290, 'partakers': 2560, 'thesons': 3631, 'thejudgment': 3512, 'abel': 3, 'vengeance': 3907, 'judgments': 1921, 'shedding': 3078, 'wings': 4076, 'consummation': 698, 'wars': 3966, 'beginnings': 334, 'nations': 2379, 'sake.and': 2943, 'another.and': 192, 'iniquity': 1776, 'charity': 566, 'wholeworld': 4047, 'abomination': 10, 'desolation': 873, 'housetop': 1704, 'suck': 3311, 'flight': 1213, 'winter': 4077, 'donot': 935, 'him.for': 1605, 'wonders': 4111, 'eagles': 979, 'lightning': 2044, 'mankind': 2152, 'body.and': 397, 'moon': 2291, 'moved.and': 2331, 'ofman': 2469, 'clouds': 625, 'majesty.and': 2128, 'elect': 1010, 'parts': 2564, 'bounds': 418, 'branch': 423, 'tender': 3372, 'leaves': 2002, 'summer': 3318, 'nigh': 2398, 'earth.but': 988, 'knoweth': 1959, 'alone.and': 98, 'noe': 2405, 'flood': 1216, 'whichand': 4029, 'mill': 2260, 'thief': 3682, 'family': 1118, 'season': 3007, 'anddrink': 136, 'drunkards': 963, 'notand': 2414, 'portion': 2661, 'thehypocrites': 3499, 'judgment.then': 1920, 'virgins': 3933, 'lamps': 1975, 'bride.and': 442, 'foolish': 1232, 'oil': 2495, 'midnight': 2253, 'sell': 3029, 'us.but': 3893, 'talents': 3354, 'ability': 7, 'journey.and': 1902, 'money.but': 2285, 'joy': 1903, 'lord.and': 2076, 'talent': 3353, 'wicked': 4052, 'seat': 3009, 'shepherd': 3082, 'goats': 1360, 'world.for': 4138, 'stranger': 3285, 'inprison': 1788, 'thirsty': 3699, 'andyou': 179, 'menot': 2234, 'me.then': 2197, 'minister': 2268, 'asyou': 262, 'punishment': 2771, 'pasch': 2566, 'subtilty': 3306, 'tumult': 3863, 'alabaster': 80, 'box': 421, 'waste': 3973, 'trouble': 3849, 'wrought': 4159, 'ointment': 2496, 'her.then': 1576, 'tothe': 3801, 'priests.and': 2716, 'pieces': 2627, 'silver.and': 3126, 'thenceforth': 3565, 'opportunity': 2513, 'forhim': 1249, 'supper': 3323, 'drank': 952, 'mark': 2169, 'sacrament': 2924, 'occasion': 2434, 'sametime': 2955, 'testament': 3378, 'remission': 2838, 'victims': 3918, 'thetestament': 3641, 'heb': 1544, 'dedication': 838, 'henceforth': 1570, 'vine': 3926, 'paschal': 2567, 'lamb': 1969, 'likeness': 2049, 'wine.and': 4074, 'hymn': 1724, 'flock': 1214, 'beforethe': 325, 'cock': 634, 'crow': 763, 'heavy.and': 1543, 'selfsame': 3028, 'swords': 3339, 'clubs': 626, 'whomsoever': 4049, 'kiss': 1953, 'hail': 1460, 'hishand': 1644, 'sword': 3337, 'legions': 2006, 'robber': 2886, 'highpriest': 1597, 'witnessagainst': 4097, 'witness': 4096, 'living': 2061, 'thepower': 3581, 'heaven.then': 1540, 'rent': 2840, 'death.then': 825, 'palms': 2548, 'prophesy': 2747, 'while': 4038, 'stood': 3280, 'thee.then': 3457, 'thrice': 3727, 'counsel': 727, 'fieldof': 1171, 'day.then': 804, 'potter': 2667, 'prisoner': 2725, 'release': 2829, 'envy': 1041, 'dream': 953, 'seeing': 3022, 'innocent': 1786, 'hall': 1464, 'band.and': 287, 'scarlet': 2988, 'crown': 765, 'knee': 1954, 'jews.and': 1880, 'himand': 1619, 'cyrene': 780, 'cross.and': 762, 'theplace': 3576, 'gall': 1314, 'hehad': 1552, 'lots': 2099, 'thethen': 3644, 'handand': 1472, 'left.and': 2005, 'heads': 1513, 'vah': 3897, 'self': 3027, 'ofin': 2463, 'ofhe': 2457, 'thing': 3685, 'withhim': 4087, 'itwith': 1855, 'vinegar': 3927, 'let': 2016, 'veil': 3904, 'bottom': 414, 'rocks': 2892, 'graves': 1422, 'bodies': 395, 'saints': 2937, 'earthquake': 991, 'linen': 2053, 'monument': 2289, 'preparation': 2696, 'sepulchre': 3044, 'thirdday': 3696, 'guard': 1447, 'week': 3999, 'countenance': 731, 'guards': 1448, 'terror': 3376, 'andbehold': 129, 'lo': 2063, 'andtook': 168, 'sum': 3317, 'say': 2980, 'you.so': 4176, 'spread': 3248, 'successors': 3309, 'themin': 3548, 'truths': 3862, 'commission': 655, 'years': 4164, 'thetruth': 3651, 'nameof': 2374, 'rome': 2899, 'latin': 1982, 'god.as': 1363, 'prepare': 2697, 'girdle': 1338, 'hisloins': 1650, 'honey.and': 1679, 'latchet': 1981, 'desert.and': 864, 'forty': 1269, 'beasts': 309, 'passing': 2569, 'hisbrother': 1637, 'farther': 1123, 'sabbathdays': 2921, 'synagogue': 3340, 'loudvoice': 2100, 'insomuch': 1794, 'lay': 1993, 'fit': 1203, 'door.and': 937, 'andcities': 132, 'purpose': 2776, 'come.and': 639, 'clean.and': 616, 'theword': 3667, 'days.and': 809, 'word.and': 4116, 'lay.and': 1994, 'sitting': 3155, 'yourhearts': 4186, 'sight': 3113, 'levi': 2020, 'drink': 957, 'physician': 2624, 'corn.and': 717, 'proposition': 2755, 'stand': 3253, 'peace.and': 2583, 'anger': 185, 'withthe': 4092, 'greatmultitude': 1426, 'idumea': 1738, 'sidon': 3111, 'whichhe': 4031, 'friends': 1284, 'onhim': 2509, 'ofmen': 2471, 'blasphemies': 378, 'spirit.and': 3241, 'thymother': 3743, 'mysister': 2362, 'sower': 3222, 'earth.and': 987, 'fruit.and': 1298, 'mystery': 2364, 'graces': 1414, 'hearts.and': 1532, 'likewise': 2050, 'andthen': 162, 'ariseth': 219, 'cares': 521, 'andthe': 161, 'lusts': 2108, 'yield': 4167, 'hundred.and': 1713, 'abushel': 23, 'ear.and': 981, 'ships': 3091, 'hinder': 1629, 'concern': 671, 'dwelling': 975, 'fetters': 1166, 'chains': 548, 'themountains': 3553, 'stones.and': 3278, 'isand': 1817, 'thatwe': 3406, 'thefields': 3471, 'coasts.and': 631, 'andhath': 141, 'greatthings': 1430, 'rulers': 2913, 'feet.and': 1156, 'point': 2654, 'ofdeath': 2443, 'physicians': 2625, 'crowd': 764, 'fountain': 1275, 'evil.and': 1075, 'virtue': 3934, 'mygarments': 2353, 'truth.and': 3858, 'goin': 1392, 'thesynagogue': 3638, 'theruler': 3608, 'ado': 42, 'damsel': 783, 'mighty': 2257, 'kindred.and': 1940, 'favour': 1145, 'thevillages': 3655, 'staff': 3251, 'scrip': 2996, 'purse': 2777, 'sandals': 2961, 'wheresoever': 4025, 'place.and': 2639, 'hesaid': 1588, 'asone': 245, 'becausehe': 313, 'thybrother': 3737, 'snares': 3171, 'todeath': 3769, 'princes': 2719, 'tribunes': 3845, 'half': 1463, 'haste': 1493, 'apart.and': 202, 'knew': 1956, 'things.and': 3689, 'spent': 3237, 'villages': 3924, 'fishes.and': 1202, 'grass.and': 1420, 'ranks': 2798, 'hundreds': 1714, 'themall.and': 3540, 'leavings': 2003, 'fragments': 1279, 'land.and': 1977, 'beds': 320, 'whole.and': 4046, 'jerusalem.and': 1870, 'cups': 774, 'pots': 2666, 'precepts': 2688, 'washing': 3969, 'man.if': 2143, 'meats': 2211, 'covetousness': 747, 'deceit': 831, 'pride': 2708, 'gentile': 1329, 'born': 410, 'saying': 2982, 'goneout': 1397, 'daughter.and': 795, 'thesea': 3618, 'deaf': 818, 'dumb': 965, 'fingers': 1188, 'tongue.and': 3788, 'right.and': 2872, 'deal': 819, 'afar': 56, 'wilderness': 4062, 'themaway.and': 3544, 'loaf': 2064, 'knowing': 1960, 'thing.and': 3686, 'prophets.then': 2753, 'manythings': 2165, 'thatare': 3389, 'exchange': 1086, 'themthat': 3557, 'ofhumility': 2462, 'snow': 3172, 'fuller': 1303, 'fear.and': 1148, 'dead.and': 814, 'themand': 3542, 'teeth': 3362, 'destroy': 877, 'havingcompassion': 1506, 'boy': 422, 'tears': 3361, 'treat': 3831, 'greatest.and': 1425, 'ill': 1742, 'you.for': 4172, 'theeto': 3463, 'worm': 4141, 'forthee': 1261, 'victim': 3917, 'sight.and': 3114, 'divorce': 921, 'creation': 752, 'thesame': 3615, 'toanother': 3765, 'adultery.and': 50, 'butone': 480, 'fraud': 1281, 'thyfather': 3740, 'youth.and': 4192, 'possessions.and': 2664, 'trustin': 3855, 'god.who': 1382, 'lands': 1979, 'condemn': 674, 'gentiles.and': 1331, 'grant': 1417, 'glory.and': 1353, 'left': 2004, 'comfort': 644, 'thee.who': 3459, 'buyers': 484, 'sellers': 3031, 'olives': 2499, 'hither.and': 1665, 'meeting': 2217, 'vessel': 3913, 'throughthe': 3733, 'doctrine.and': 926, 'remembering': 2836, 'curse': 775, 'bethou': 358, 'hisheart': 1646, 'him.therefore': 1614, 'theancients.and': 3413, 'beat': 310, 'inheritance': 1770, 'corner': 718, 'eyes.and': 1099, 'person': 2612, 'render': 2839, 'err': 1044, 'bush': 471, 'thehe': 3493, 'all.and': 85, 'andwith': 177, 'strength.and': 3292, 'besides': 356, 'understanding': 3878, 'thouart': 3715, 'robes': 2889, 'judgment.and': 1918, 'treasury': 3830, 'widow': 4056, 'down.and': 946, 'earthquakes': 993, 'thesethings': 3626, 'death.and': 822, 'endure': 1030, 'saved.and': 2974, 'flee': 1207, 'mountains.and': 2319, 'therein': 3593, 'tribulations': 3843, 'chosen': 585, 'heis': 1558, 'stars': 3259, 'withgreat': 4086, 'thereofis': 3599, 'isvery': 1838, 'teacher': 3359, 'feast': 1151, 'andwas': 170, 'her.but': 1575, 'alone': 97, 'beforehand': 322, 'him.now': 1611, 'whither': 4041, 'pitcher': 2636, 'whithersoever': 4042, 'dining': 893, 'us.and': 3892, 'twelve.and': 3868, 'eating': 998, 'blessing': 382, 'whichshall': 4034, 'inthee': 1805, 'togetherwith': 3774, 'theground': 3491, 'words.and': 4121, 'manshall': 2158, 'staves': 3264, 'servantof': 3050, 'together.and': 3772, 'hands.now': 1478, 'priest.and': 2710, 'thousayest': 3723, 'prisoners': 2726, 'sedition': 3015, 'hewould': 1594, 'palace': 2546, 'purple': 2775, 'alexander': 82, 'myrrh': 2359, 'him.which': 1616, 'noon': 2409, 'standers': 3254, 'running': 2916, 'stay': 3265, 'cometo': 643, 'waswho': 3976, 'thatis': 3394, 'counsellor': 728, 'joseph.and': 1898, 'beheld': 339, 'motherof': 2311, 'spices': 3238, 'coming.and': 647, 'robe': 2888, 'wherethey': 4026, 'trembling': 3835, 'weeping.and': 4002, 'didnot': 885, 'shape': 3074, 'length': 2009, 'incredulity': 1756, 'thegospel': 3487, 'believeth': 344, 'sitteth': 3154, 'god.but': 1366, 'companion': 661, 'theministry': 3549, 'birth': 368, 'ministers': 2269, 'daughtersof': 797, 'aaron': 1, 'appointment': 212, 'par': 2552, 'descendants': 860, 'families': 1117, 'eighth': 1007, 'thistime': 3707, 'priestly': 2714, 'justifications': 1930, 'years.and': 4165, 'office': 2453, 'lot': 2098, 'tooffer': 3791, 'incense': 1751, 'incense.and': 1752, 'gladness': 1346, 'womb.and': 4107, 'lordtheir': 2096, 'thathe': 3392, 'aperfect': 203, 'whereby': 4020, 'gabriel': 1309, 'hastnot': 1494, 'time.and': 3755, 'months': 2287, 'dealt': 820, 'reproach': 2846, 'month': 2286, 'acity': 32, 'houseof': 1699, 'conceive': 670, 'ason': 244, 'ever.and': 1063, 'end.and': 1026, 'cousin': 742, 'inher': 1769, 'age': 69, 'handmaid': 1473, 'juda.and': 1908, 'tome': 3783, 'myears': 2350, 'infant': 1761, 'ages': 70, 'name.and': 2372, 'arm': 221, 'conceit': 669, 'mindful': 2264, 'abode': 8, 'house.now': 1695, 'neighbors': 2389, 'kinsfolks': 1950, 'calledand': 498, 'writing': 4157, 'tongue': 3787, 'neighbours': 2391, 'horn': 1684, 'salvation': 2951, 'holiness': 1672, 'forthou': 1264, 'bowels': 420, 'orientfrom': 2520, 'manifestation': 2150, 'decree': 836, 'syria.and': 3342, 'child.and': 576, 'clothes': 621, 'manger': 2149, 'shepherds': 3083, 'watches': 3978, 'flock.and': 1215, 'brightness': 446, 'tidings': 3751, 'purification': 2773, 'sacrifice': 2926, 'pair': 2545, 'pigeons': 2629, 'simeon': 3129, 'manwas': 2162, 'consolation': 694, 'holyand': 1675, 'arms': 224, 'peoples': 2596, 'revelation': 2860, 'blindness': 386, 'commandments.and': 652, 'anna': 189, 'prophetess': 2751, 'phanuel': 2618, 'tribe': 3839, 'aser': 233, 'herhusband': 1586, 'fastings': 1127, 'year': 4162, 'company': 663, 'doctors': 924, 'questions.and': 2786, 'business': 473, 'men.now': 2231, 'reign': 2822, 'wasmade': 3970, 'thebaptism': 3418, 'sayings': 2983, 'valley': 3900, 'waysplain.and': 3992, 'god.he': 1370, 'offspring': 2456, 'thewrath': 3672, 'content': 700, 'theirhearts': 3505, 'floor': 1218, 'people.but': 2591, 'evils': 1079, 'heli': 1559, 'inconsequence': 1753, 'ofwho': 2492, 'mathathias': 2183, 'amos': 115, 'nahum': 2368, 'mahath': 2124, 'semei': 3035, 'salathiel': 2945, 'eliezer': 1016, 'mathatha': 2182, 'aminadab': 109, 'esron': 1050, 'sarug': 2967, 'ragau': 2788, 'phaleg': 2617, 'cainan': 495, 'arphaxad': 227, 'sem': 3034, 'mathusale': 2184, 'henoch': 1571, 'malaleel': 2133, 'seth': 3058, 'adam': 38, 'space': 3224, 'thekingdoms': 3514, 'moment': 2283, 'theglory': 3485, 'adore': 45, 'stone.and': 3276, 'himfor': 1621, 'meto': 2250, 'deliverance': 847, 'captives': 517, 'liberty': 2024, 'reward.and': 2865, 'ears.and': 984, 'similitude': 3130, 'country.in': 736, 'famine': 1119, 'sent': 3041, 'woman.and': 4104, 'hill': 1599, 'standing': 3257, 'lake': 1968, 'fishermen': 1199, 'thenight': 3567, 'multitudeof': 2336, 'net': 2394, 'saw': 2978, 'catch': 531, 'means': 2206, 'fields': 1172, 'solemn': 3184, 'toeat': 3770, 'taught': 3356, 'thesabbath': 3610, 'accusation': 28, 'madness': 2119, 'withanother': 4084, 'amountain': 116, 'yours': 4187, 'weep': 4000, 'glad': 1345, 'hate': 1497, 'forbid': 1238, 'coat': 632, 'lend': 2008, 'downand': 947, 'lead': 1995, 'ditch': 914, 'master.and': 2179, 'bringethforth': 450, 'themouth': 3554, 'thefoundation': 3478, 'stream': 3287, 'heareth': 1522, 'hishouse': 1647, 'ruin': 2909, 'messengers': 2247, 'penitent': 2587, 'greatmultitude.and': 1427, 'itstood': 1853, 'hispeople.and': 1655, 'rumour': 2914, 'toand': 3764, 'hear': 1518, 'tosee': 3799, 'kings.but': 1949, 'sinner': 3142, 'behind': 340, 'withtears': 4091, 'ointment.and': 2497, 'tothee': 3802, 'creditor': 757, 'shehath': 3081, 'dispositions': 908, 'verse': 3911, 'conversion': 711, 'hope': 1682, 'steward': 3270, 'susanna': 3330, 'substance.and': 3305, 'fowls': 1277, 'withit': 4090, 'roots': 2904, 'perfectheart': 2599, 'covereth': 745, 'light.for': 2042, 'hidden': 1596, 'forth.and': 1259, 'danger.and': 785, 'rage': 2789, 'andthere': 163, 'beseech': 353, 'bonds': 402, 'them.the': 3534, 'villages.and': 3925, 'depart': 855, 'return': 2858, 'substance': 3304, 'denying': 854, 'somebody': 3188, 'wept': 4008, 'dead.but': 815, 'victuals': 3920, 'food': 1230, 'fifties': 1176, 'company.and': 664, 'multitude.and': 2335, 'taste': 3355, 'decease': 830, 'jerusalem.but': 1871, 'cloud.and': 624, 'whichthey': 4036, 'seen.and': 3025, 'one.and': 2502, 'faithless': 1111, 'men.but': 2228, 'andset': 158, 'souls': 3211, 'town.and': 3813, 'head.but': 1511, 'leave': 2000, 'plough': 2653, 'lambs': 1971, 'soever': 3179, 'ofbut': 2442, 'hand.i': 1469, 'city.woe': 610, 'shaltbe': 3070, 'andto': 167, 'withall': 4082, 'neighbour': 2390, 'thyself.and': 3746, 'do': 922, 'jerusalemto': 1874, 'robbers': 2887, 'levite': 2021, 'wounds': 4149, 'andwine': 176, 'beast': 308, 'inn': 1783, 'host': 1689, 'andsaid': 157, 'word.but': 4117, 'toher': 3776, 'praying': 2682, 'mine': 2266, 'find': 1185, 'give': 1342, 'scorpion': 2991, 'goodand': 1401, 'whenhe': 4018, 'theprince': 3585, 'houseshall': 1702, 'fall.and': 1114, 'armour': 223, 'wherein': 4022, 'first.and': 1195, 'paps': 2551, 'shallnot': 3065, 'generation.the': 1326, 'endsof': 1029, 'generationand': 1327, 'lamp': 1974, 'theoutside': 3573, 'fools': 1234, 'make': 2129, 'you.but': 4170, 'andevery': 137, 'herb': 1577, 'andmen': 148, 'yourfathers': 4184, 'shew': 3084, 'religion': 2831, 'designs': 868, 'doings': 932, 'zacharias': 4194, 'key': 1934, 'hindered.and': 1630, 'wait': 3949, 'hismouth': 1652, 'thebody': 3422, 'hehath': 1553, 'themis': 3550, 'plenty': 2652, 'goods.and': 1404, 'thysoul': 3749, 'ravens': 2801, 'you.fear': 4171, 'grow': 1445, 'approacheth': 213, 'moth': 2306, 'burning': 467, 'hands.and': 1477, 'setteth': 3059, 'men-servants': 2226, 'maid-servants': 2126, 'stripes': 3296, 'demand': 849, 'itbe': 1847, 'wherewith': 4028, 'mother-in-law': 2308, 'mother-in-law.and': 2309, 'shower': 3100, 'blow': 390, 'goest': 1389, 'adversary': 53, 'lest': 2014, 'thevery': 3653, 'sacrifices.and': 2928, 'suchthings': 3310, 'siloe': 3124, 'inno': 1784, 'neither': 2392, 'everyone': 1071, 'ox': 2539, 'bond': 398, 'adversaries': 52, 'him.he': 1606, 'garden': 1315, 'tobe': 3766, 'hisjourney': 1648, 'pains': 2544, 'earnest': 982, 'streets.and': 3290, 'workers': 4124, 'south': 3218, 'perish': 2603, 'jerusalem.jerusalem': 1873, 'bird': 366, 'lord.of': 2084, 'begin': 330, 'shame': 3073, 'place.but': 2640, 'humbleth': 1711, 'recompense': 2811, 'tomake': 3782, 'excuse': 1087, 'oxen': 2540, 'returning': 2859, 'thepoor': 3578, 'supper.and': 3324, 'andwife': 175, 'meaning': 2205, 'disposition': 907, 'charges': 563, 'war': 3962, 'embassy': 1019, 'conditions': 677, 'dunghill': 967, 'eateth': 997, 'theportion': 3579, 'thatcountry': 3391, 'want.and': 3960, 'citizens': 606, 'myfather': 2351, 'abound': 12, 'thee.i': 3453, 'ring': 2875, 'calf': 496, 'merry': 2244, 'elder': 1009, 'music': 2345, 'kid': 1935, 'hissubstance': 1658, 'ofthee': 2482, 'mylord': 2356, 'houses.therefore': 1701, 'theirgeneration': 3504, 'light.and': 2041, 'mammon': 2137, 'oftentimes': 2480, 'intercession': 1800, 'oneand': 2504, 'anabomination': 118, 'finelinen': 1186, 'day.and': 801, 'beggar': 328, 'sores': 3200, 'richman': 2869, 'bosom': 411, 'lifetime': 2037, 'fromthence': 1296, 'thisplace': 3706, 'thedead': 3442, 'faith.and': 1107, 'feeding': 1154, 'cattle': 532, 'shalteat': 3071, 'duty': 970, 'samaria': 2953, 'off.and': 2446, 'madethee': 2118, 'shouldcome': 3096, 'them.for': 3528, 'man.they': 2145, 'ark': 220, 'built.and': 461, 'it.i': 1843, 'adversary.and': 54, 'saith.and': 2941, 'adulterers': 47, 'tithes': 3761, 'lift': 2039, 'breast': 434, 'commit': 656, 'andthou': 166, 'sorrowful': 3203, 'god.for': 1368, 'theworld': 3671, 'upon.and': 3887, 'by.and': 485, 'hispeace': 1654, 'andwhen': 172, 'thatand': 3388, 'receive': 2809, 'jericho.and': 1867, 'rich.and': 2867, 'zacheus': 4195, 'guest': 1449, 'pounds': 2668, 'trade': 3817, 'embassage': 1018, 'bank': 290, 'usury': 3896, 'sitten': 3153, 'owners': 2538, 'descent': 861, 'theirpeace': 3507, 'out.and': 2533, 'atrench': 266, 'compass': 666, 'everyside': 1072, 'becausethou': 316, 'prayer.and': 2679, 'theyare': 3674, 'ido': 1733, 'thevineyard': 3656, 'himthe': 1627, 'spies': 3239, 'guile': 1453, 'thereis': 3594, 'wifeand': 4061, 'marry': 2174, 'godof': 1387, 'jacob.for': 1860, 'well.and': 4006, 'psalms': 2770, 'rooms': 2902, 'brass': 425, 'offerings': 2452, 'thereshall': 3602, 'myname': 2357, 'seditions': 3016, 'terrors': 3377, 'prisons': 2727, 'andkinsmen': 145, 'souls.and': 3212, 'army': 225, 'thecountries': 3437, 'distress': 911, 'edge': 1000, 'bythe': 491, 'thestars': 3634, 'roaring': 2885, 'expectation': 1092, 'thetrees': 3649, 'drunkenness': 964, 'snare': 3170, 'daytime': 813, 'him.the': 1612, 'themagistrates': 3539, 'in.and': 1746, 'me.be': 2189, 'thedeath': 3443, 'presence': 2700, 'hisbody': 1635, 'veils': 3905, 'hisdeath': 1639, 'table.and': 3347, 'strife': 3294, 'younger': 4180, 'leader': 1996, 'temptations': 3370, 'thrones': 3731, 'fail': 1105, 'thisday': 3703, 'agony': 72, 'longer.and': 2071, 'sweat': 3332, 'drops': 960, 'sorrow.and': 3202, 'manwith': 2163, 'magistrates': 2121, 'lightand': 2043, 'question': 2784, 'denial': 852, 'kinsman': 1951, 'drew': 956, 'handof': 1475, 'yousay': 4189, 'mouth.and': 2323, 'king.and': 1944, 'man.but': 2140, 'nought': 2419, 'voices': 3943, 'sentence': 3042, 'hadbeen': 1457, 'will.and': 4063, 'daughters': 796, 'children.for': 581, 'barren': 299, 'havenot': 1505, 'hills': 1600, 'cover': 744, 'wood': 4112, 'hebrew': 1545, 'condemnation': 675, 'privilege': 2728, 'confession': 681, 'discharge': 895, 'allhis': 86, 'guilt': 1454, 'society': 3176, 'midst.and': 2255, 'acquaintance': 33, 'agood': 73, 'ointments': 2498, 'theycame': 3675, 'prepared.and': 2698, 'apparel.and': 208, 'towardsthe': 3810, 'rest.and': 2854, 'ran': 2797, 'inhimself': 1773, 'furlongs': 1306, 'emmaus.and': 1022, 'happened.and': 1482, 'withthemselves': 4094, 'breaking': 433, 'feet.but': 1157, 'remains': 2834, 'tothem.and': 3805, 'hisname': 1653, 'thecity': 3433, 'fromthem': 1295, 'greeks': 1434, 'fast': 1125, 'almighty': 94, 'clearest': 618, 'preface': 2693, 'shineth': 3089, 'world.he': 4139, 'hisglory': 1643, 'beareth': 306, 'fulness': 1304, 'fromand': 1287, 'beforeme': 324, 'shoe': 3092, 'beholdthe': 342, 'tenth': 3374, 'follow': 1225, 'nathanael': 2376, 'wast': 3972, 'thefig': 3472, 'see.and': 3019, 'themother': 3552, 'commentators': 654, 'miracle': 2273, 'request': 2848, 'themanner': 3543, 'ofvoice': 2490, 'another.his': 194, 'thechief': 3429, 'hisbrethren': 1636, 'scourge': 2993, 'cords': 715, 'themoney': 3551, 'doves': 945, 'thyhouse': 3742, 'threedays': 3725, 'raise': 2795, 'allmen': 89, 'jews.this': 1882, 'application': 211, 'butthou': 483, 'howwill': 1708, 'signifies': 3119, 'salim': 2947, 'bride': 441, 'above': 14, 'seal': 3003, 'godis': 1385, 'everlasting': 1068, 'well': 4005, 'anddrank': 135, 'drinketh': 958, 'ever.but': 1064, 'everlasting.the': 1069, 'husbands': 1723, 'havedone': 1502, 'him.in': 1609, 'broughthim': 456, 'countries.and': 733, 'wages': 3948, 'festival': 1163, 'liveth': 2060, 'yesterday': 4166, 'comeout': 640, 'wentup': 4007, 'motion': 2313, 'thewater': 3658, 'healing': 1515, 'quality': 2780, 'benefit': 350, 'time.in': 3757, 'waiting': 3951, 'moving': 2332, 'thirtyyears': 3701, 'longtime': 2073, 'infirm': 1764, 'thee.the': 3456, 'worketh': 4125, 'me.if': 2194, 'myself': 2360, 'thatyou': 3408, 'atime': 265, 'life.and': 2031, 'life.i': 2035, 'writings': 4158, 'mywords': 2366, 'life.after': 2030, 'hand.when': 1471, 'verygreat': 3912, 'barley': 296, 'thousand.and': 3721, 'thefragments': 3481, 'twenty': 3869, 'theloaves': 3523, 'perisheth': 2604, 'manna': 2153, 'giveth': 1344, 'fatherand': 1137, 'murmur': 2342, 'motions': 2314, 'ever.he': 1065, 'abideth': 6, 'him.as': 1602, 'me.this': 2199, 'whathe': 4012, 'profiteth': 2737, 'thewords': 3668, 'betray': 360, 'morewith': 2300, 'whereis': 4023, 'murmuring': 2343, 'jews.now': 1881, 'letters': 2019, 'speaketh': 3230, 'circumcision': 599, 'appearance': 209, 'tokill': 3780, 'me.they': 2198, 'festivity': 1165, 'flow': 1220, 'rivers': 2883, 'wasnot': 3971, 'ofhis': 2461, 'ofso': 2479, 'dissension': 909, 'thethe': 3643, 'man.the': 2144, 'riseth': 2879, 'astone': 256, 'ground.but': 1443, 'me.the': 2196, 'beneath': 349, 'thebeginning': 3420, 'slaves': 3163, 'ever.if': 1066, 'you.i': 4174, 'father.they': 1136, 'weare': 3996, 'desires': 870, 'murderer': 2339, 'lie': 2026, 'liar': 2022, 'thereof.but': 3597, 'theprophets': 3589, 'itand': 1846, 'birth.and': 369, 'him.i': 1607, 'spittle': 3243, 'clay': 614, 'pool': 2658, 'division': 920, 'them.they': 3537, 'himthat': 1626, 'sonand': 3194, 'sinner.he': 3143, 'abuse': 21, 'intothe': 1809, 'porter': 2660, 'voice.but': 3942, 'proverb': 2759, 'hireling': 1633, 'wolf': 4101, 'flieth': 1212, 'casteth': 527, 'sheep.and': 3080, 'theworks': 3670, 'noone': 2410, 'gods': 1388, 'thethey': 3645, 'sign.but': 3117, 'andmany': 147, 'sickness': 3107, 'hours': 1692, 'isnot': 1826, 'sleepeth': 3165, 'repose': 2845, 'sakes': 2944, 'grave': 1421, 'meet': 2216, 'hadst': 1459, 'thee.she': 3454, 'weeping': 4001, 'werecome': 4009, 'cave': 537, 'hiseyes': 1640, 'hastsent': 1495, 'me.when': 2200, 'andhands': 139, 'bands': 288, 'manshould': 2159, 'nation.and': 2378, 'herhair': 1585, 'odour': 2437, 'palm': 2547, 'anass': 120, 'dead.for': 816, 'mefrom': 2218, 'younot': 4181, 'me.i': 2193, 'darkness.and': 790, 'ministry': 2271, 'yearof': 4163, 'heartof': 1530, 'handsand': 1480, 'thefeet': 3469, 'myhands': 2354, 'him.if': 1608, 'heel': 1551, 'upon': 3886, 'whomhe': 4048, 'morsel': 2303, 'treason': 3827, 'signification': 3118, 'poor.he': 2659, 'me.in': 2195, 'mansions': 2160, 'andgreater': 138, 'forever': 1245, 'orphans': 2521, 'you.he': 4173, 'inmy': 1782, 'circumstances': 601, 'humanity': 1709, 'thei': 3500, 'inhim': 1772, 'abide': 5, 'andshall': 159, 'ialso': 1731, 'remain': 2832, 'you.if': 4175, 'butbecause': 476, 'sin.he': 3138, 'hathdone': 1500, 'cause.but': 534, 'service': 3055, 'heart.but': 1527, 'ofjustice': 2467, 'thousands': 3722, 'littlewhile': 2057, 'father.then': 1135, 'labour': 1963, 'sorrow': 3201, 'iscome': 1818, 'anguish': 186, 'proverbs': 2760, 'god.i': 1371, 'camest': 506, 'whichthou': 4037, 'thine': 3684, 'fromthee': 1293, 'kept': 1933, 'evil.they': 1076, 'asthou': 255, 'brook': 453, 'cedron': 541, 'band': 286, 'torches': 3797, 'tribune': 3844, 'father-in-law': 1130, 'tonow': 3790, 'coals': 628, 'becauseit': 314, 'askest': 242, 'said.and': 2934, 'theevil': 3464, 'forthis': 1263, 'man.when': 2146, 'god.when': 1381, 'more.and': 2294, 'speakest': 3229, 'sin.and': 3135, 'maketh': 2131, 'eve': 1059, 'title': 3762, 'write': 4156, 'hisgarments': 1642, 'soldier': 3182, 'set': 3057, 'hyssop': 1728, 'legs': 2007, 'spear': 3232, 'istrue': 1837, 'hecame': 1547, 'bynight': 488, 'mixture': 2279, 'aloes': 96, 'thesepulchre': 3621, 'andone': 152, 'tomy': 3786, 'thenow': 3569, 'thedoors': 3448, 'dimensions': 892, 'doors': 938, 'you.when': 4178, 'nails': 2369, 'put': 2779, 'wealso': 3994, 'shore': 3094, 'cubits': 771, 'thereon': 3600, 'dead.when': 817, 'feed': 1153, 'wouldst': 4147, 'ifthey': 1739, 'books': 407, 'view': 3921, 'establishment': 1051, 'action': 35, 'labours': 1965, 'chapters': 558, 'history': 1660, 'ascension': 232, 'ministry.and': 2272, 'asunder': 260, 'inhabitants': 1768, 'surnamedand': 3329, 'apostleship': 206, 'pentecost': 2588, 'tongues': 3789, 'andit': 144, 'medes': 2212, 'elamites': 1008, 'mesopotamia': 2245, 'libya': 2025, 'proselytes': 2756, 'arabians': 215, 'joel': 1886, 'yourdaughters': 4183, 'visions': 3938, 'dreams.and': 954, 'handmaids': 1474, 'vapour': 3903, 'smoke.the': 3169, 'determination': 880, 'thedevil': 3446, 'theauthor': 3417, 'sorrows': 3204, 'hope.because': 1683, 'lordsaid': 2093, 'ofyou': 2493, 'save': 2973, 'communication': 659, 'possessions': 2663, 'accord': 25, 'soles': 3185, 'author': 270, 'ignorance': 1740, 'samuel': 2956, 'whichthe': 4035, 'kindreds': 1941, 'nextday': 2397, 'constancy': 695, 'theycould': 3676, 'it.but': 1840, 'hathbeen': 1499, 'thesight': 3627, 'seaand': 3002, 'thyservant': 3747, 'christ.for': 588, 'decreed': 837, 'thyservants': 3748, 'confidence': 682, 'confidence.and': 683, 'needy': 2388, 'interpretation': 1801, 'feetof': 1158, 'ananias': 119, 'apiece': 204, 'thereunto': 3604, 'thyheart': 3741, 'thespirit': 3633, 'her': 1572, 'husband.and': 1719, 'join': 1888, 'couches': 724, 'theleast': 3519, 'wordsof': 4122, 'diligence': 890, 'keepers': 1932, 'inthis': 1807, 'men.for': 2229, 'joinedthemselves': 1889, 'slain': 3160, 'stephen': 3267, 'fortitude': 1267, 'people.now': 2593, 'cilicia': 597, 'asia': 237, 'law.for': 1988, 'hedwelt': 1549, 'chaldeans': 550, 'pace': 2542, 'bondage': 399, 'covenant': 743, 'patriarchs': 2578, 'himfavour': 1620, 'pharao': 2619, 'chanaan': 554, 'ourfathers': 2528, 'souls.so': 3214, 'fathers.and': 1141, 'sichem': 3102, 'hemor': 1568, 'sichem.and': 3103, 'race': 2787, 'egyptians': 1006, 'hurt': 1717, 'thedesert': 3444, 'sina': 3140, 'flame': 1204, 'toview': 3808, 'standest': 3255, 'affliction': 61, 'groaning': 1439, 'theeprince': 3462, 'redeemer': 2813, 'theangel': 3415, 'sacrifices': 2927, 'andsacrifices': 156, 'tabernacle': 3343, 'moloch': 2282, 'figures': 1181, 'form': 1252, 'thepossession': 3580, 'forthe': 1260, 'jacob.but': 1859, 'dwellings': 976, 'resting': 2856, 'whosename': 4050, 'saul.and': 2972, 'saul': 2971, 'thechurch': 3432, 'exceedinggreat': 1084, 'confirmation': 685, 'thegrace': 3488, 'theapostles': 3416, 'matter': 2186, 'bitterness': 371, 'theof': 3571, 'gaza': 1323, 'ethiopia': 1055, 'ethiopians': 1056, 'chariot': 564, 'slaughter': 3162, 'shearer': 3077, 'mouth.in': 2326, 'eunuch': 1057, 'belief': 343, 'salvation.and': 2952, 'azotus': 279, 'priestand': 2711, 'damascus': 782, 'street': 3288, 'israel.for': 1831, 'scales': 2984, 'wall': 3955, 'inand': 1748, 'lord.he': 2080, 'lydda': 2110, 'saron': 2966, 'joppe': 1892, 'chamber.and': 553, 'up.and': 3885, 'theday': 3441, 'lodgeth': 2067, 'household': 1696, 'houseto': 1703, 'preparing': 2699, 'ecstasy': 999, 'mind.and': 2263, 'asit': 240, 'air.and': 78, 'kill': 1936, 'thingthat': 3693, 'them.then': 3535, 'kinsmen': 1952, 'friends.and': 1285, 'cameto': 507, 'thatbut': 3390, 'thefather': 3467, 'lies': 2027, 'thatit': 3395, 'him.while': 1617, 'lordand': 2089, 'creatures': 755, 'eat.and': 996, 'housewherein': 1705, 'send': 3036, 'beginning.and': 332, 'cyprus': 779, 'antioch': 199, 'topass': 3793, 'relief': 2830, 'sword.and': 3338, 'gird': 1337, 'vision.and': 3937, 'ward': 3963, 'iron': 1814, 'thatthe': 3401, 'gate.but': 1320, 'mad': 2115, 'stir': 3272, 'thesoldiers': 3629, 'tyrians': 3872, 'sidonians': 3112, 'countries': 732, 'apparel': 207, 'agod': 71, 'worms': 4142, 'fasting': 1126, 'island': 1823, 'amist': 110, 'hand.then': 1470, 'lord.now': 2083, 'departing': 856, 'reading': 2804, 'exhortation': 1090, 'silence': 3122, 'sojourners': 3181, 'manners': 2157, 'judges': 1913, 'cis': 602, 'benjamin': 351, 'coming': 646, 'stock': 3273, 'psalm': 2769, 'corruption': 723, 'promises': 2741, 'slept': 3166, 'wonder': 4110, 'thestrangers': 3636, 'minds': 2265, 'thea': 3409, 'assault': 248, 'upright': 3890, 'jupiter': 1922, 'mercury': 2241, 'garlands': 1316, 'vainthings': 3899, 'rains': 2794, 'seasons': 3008, 'gladness.and': 1347, 'contest': 703, 'choice': 584, 'amongus': 114, 'themthe': 3558, 'difference': 888, 'necks': 2386, 'tabernacleof': 3344, 'ruins': 2910, 'residue': 2849, 'idols': 1737, 'lives': 2059, 'fare': 1121, 'thelatter': 3517, 'obedience': 2425, 'prohibition': 2739, 'manywords': 2166, 'wordof': 4119, 'churches': 596, 'intoand': 1808, 'lydia': 2111, 'seller': 3030, 'cityof': 611, 'myhouse': 2355, 'following': 1228, 'fashion': 1124, 'rods.and': 2895, 'stocks.and': 3274, 'thefoundations': 3479, 'keeper': 1931, 'harm': 1487, 'imay': 1744, 'romans': 2898, 'andof': 150, 'sort': 3205, 'uproar': 3891, 'jason': 1861, 'therulers': 3609, 'satisfaction': 2970, 'thanthat': 3386, 'countrymen': 737, 'grounds': 1444, 'few.and': 1168, 'speed': 3236, 'withthem': 4093, 'philosophers': 2623, 'temples': 3368, 'uses': 3895, 'breath': 437, 'faceof': 1104, 'limits': 2052, 'move': 2330, 'graving': 1423, 'equity': 1043, 'pontus': 2657, 'italy': 1845, 'blaspheming': 379, 'fromhenceforth': 1289, 'questions': 2785, 'galatia': 1311, 'alexandria': 83, 'vigour': 3922, 'whodwelt': 4043, 'them.now': 3531, 'arts': 229, 'silver.so': 3127, 'confirmed.and': 686, 'also.and': 100, 'disturbance': 913, 'wayof': 3989, 'demetrius': 850, 'silversmith': 3128, 'workmen': 4128, 'occupation': 2436, 'craft': 748, 'confusion': 689, 'venture': 3909, 'assembly': 250, 'onevoice': 2508, 'craftsmen': 751, 'courts': 741, 'forward': 1271, 'greece': 1431, 'christians': 592, 'wherewe': 4027, 'window': 4071, 'byoccasion': 489, 'more.wherefore': 2298, 'theblood': 3421, 'blood.i': 389, 'departure': 857, 'selves': 3033, 'them.therefore': 3536, 'memory': 2224, 'theneck': 3566, 'farewell': 1122, 'willof': 4066, 'done.and': 934, 'vow': 3946, 'them.take': 3533, 'oblation': 2428, 'peopleand': 2595, 'centurions': 543, 'certainty': 545, 'castle.and': 529, 'stairs': 3252, 'people.for': 2592, 'castle': 528, 'thevoice': 3657, 'mouth.for': 2324, 'inevery': 1759, 'byand': 486, 'theirvoice': 3510, 'citywith': 612, 'conscience': 690, 'mouth.then': 2327, 'force': 1239, 'signify': 3120, 'credit': 756, 'horsemen': 1687, 'night.and': 2400, 'lysias': 2113, 'greeting': 1435, 'ambushes': 106, 'accusers': 30, 'province': 2762, 'againstand': 67, 'providence': 2761, 'examination': 1082, 'courage': 738, 'understand': 3877, 'causing': 536, 'thingswhich': 3692, 'andofferings': 151, 'amongthem': 113, 'thisway': 3709, 'untohim.and': 3883, 'chastity': 570, 'tocome': 3767, 'successor': 3308, 'way.but': 3988, 'crime': 759, 'downfrom': 948, 'pleasure': 2649, 'hastthou': 1496, 'theancients': 3412, 'delay': 844, 'superstition': 3322, 'myself.and': 2361, 'thenot': 3568, 'whichcause': 4030, 'answer.i': 196, 'customs': 778, 'wherefore': 4021, 'thefathers': 3468, 'shutup': 3101, 'midday': 2252, 'good.and': 1399, 'thosethings': 3713, 'withconfidence': 4085, 'fromhim': 1290, 'board': 392, 'gnidus': 1358, 'damage': 781, 'pilot': 2632, 'whereas': 4019, 'haven': 1504, 'southwest': 3219, 'thewind': 3662, 'helps': 1565, 'meand': 2203, 'exhort': 1089, 'cheer': 572, 'sail': 2935, 'stern': 3269, 'colour': 636, 'forepart': 1244, 'ropes': 2905, 'threescore': 3726, 'seas': 3006, 'boards': 393, 'conference': 679, 'bundle': 462, 'sticks': 3271, 'viper': 3931, 'heat': 1533, 'hishand.and': 1645, 'barbarians': 294, 'hanging': 1481, 'honours': 1681, 'andafter': 124, 'blowing': 391, 'sevendays': 3060, 'lodging': 2068, 'preeminence': 2692, 'veneration': 3906, 'void': 3944, 'sanctification': 2957, 'sanctity': 2958, 'beloved': 347, 'thatwhich': 3407, 'mine.and': 2267, 'hitherto': 1666, 'injustice': 1781, 'thelikeness': 3521, 'creature': 754, 'creator': 753, 'affections': 58, 'theirpride': 3508, 'thewomen': 3666, 'error.and': 1046, 'avarice': 273, 'contention': 701, 'fidelity': 1169, 'theywho': 3681, 'consent': 691, 'judgest': 1914, 'goodness': 1402, 'gloryand': 1357, 'incorruption': 1754, 'bearing': 307, 'secrets': 3012, 'guide': 1451, 'sacrilege': 2930, 'boast': 394, 'transgression': 3821, 'transgressor': 3823, 'justices': 1928, 'flesh.but': 1209, 'advantage': 51, 'overcome': 2537, 'errors': 1047, 'throat': 3728, 'venom': 3908, 'asps': 246, 'swift': 3335, 'destruction': 878, 'misery': 2276, 'beforehim': 323, 'sin.but': 3136, 'propitiation': 2754, 'hisblood': 1634, 'shewing': 3086, 'worksof': 4134, 'thesacraments': 3611, 'whereof': 4024, 'procure': 2732, 'bounty': 419, 'efficacy': 1004, 'act': 34, 'ours': 2529, 'performances': 2601, 'iniquities': 1775, 'pardon': 2556, 'habit': 1455, 'innocence': 1785, 'sacraments': 2925, 'fatherof': 1139, 'steps': 3268, 'faith.for': 1108, 'thepromise': 3587, 'heirs': 1557, 'blessings': 384, 'transgressions': 3822, 'wrath.therefore': 4152, 'soshall': 3207, 'be.and': 303, 'access': 24, 'trial': 3837, 'confoundeth': 688, 'thetime': 3648, 'scarce': 2987, 'hislife.and': 1649, 'figure': 1180, 'offence': 2447, 'ofone': 2476, 'justification': 1929, 'life.for': 2033, 'soalso': 3174, 'perversity': 2615, 'sin.for': 3137, 'more.for': 2295, 'god.so': 1377, 'instruments': 1797, 'dominion': 933, 'justice.but': 1925, 'justice.i': 1927, 'lawof': 1991, 'passions': 2571, 'concupiscence': 673, 'allmanner': 88, 'death.for': 824, 'appetite': 210, 'asthe': 253, 'myflesh': 2352, 'ofmy': 2473, 'theflesh': 3475, 'dwellin': 974, 'flesh.for': 1210, 'deeds': 840, 'adoption': 43, 'experience': 1093, 'rom': 2896, 'sufferings': 3314, 'waiteth': 3950, 'vanity': 3902, 'happiness': 1483, 'byreason': 490, 'pain': 2543, 'firstfruits': 1197, 'groan': 1438, 'seeth': 3026, 'forus': 1270, 'groanings': 1440, 'desireth': 871, 'amongst': 112, 'daylong': 806, 'height': 1555, 'sadness': 2932, 'heart.for': 1528, 'anathema': 121, 'israelites': 1834, 'heretofore': 1584, 'ismael': 1825, 'esau': 1048, 'sohe': 3180, 'rebecca': 2807, 'mass': 2177, 'calleth': 499, 'willeth': 4065, 'runneth': 2915, 'fault': 1143, 'lump': 2106, 'dishonour': 904, 'maker': 2130, 'powerknown': 2672, 'mercywhich': 2243, 'osee': 2522, 'mypeople': 2358, 'thesalvation': 3614, 'scandal': 2985, 'thatshall': 3399, 'thymouth': 3744, 'preacher': 2684, 'teachers': 3360, 'mission': 2277, 'succession': 3307, 'report': 2844, 'world.but': 4137, 'fear.i': 1149, 'israelite': 1833, 'oftime': 2488, 'condition': 676, 'josaphat': 1896, 'grace.and': 1413, 'present': 2701, 'permission': 2605, 'trap': 3826, 'them.let': 3530, 'downtheir': 950, 'remedy': 2835, 'good': 1398, 'reconciliation': 2812, 'partaker': 2559, 'fatness': 1142, 'thee.thou': 3458, 'presumption': 2704, 'security': 3014, 'lestperhaps': 2015, 'ofnot': 2474, 'writ': 4155, 'particular.and': 2561, 'theyalso': 3673, 'perfect': 2598, 'sobriety': 3175, 'rule': 2911, 'simplicity': 3133, 'dissimulation': 910, 'brotherhood': 455, 'fervent': 1162, 'patient': 2577, 'necessities': 2383, 'bless': 381, 'men.if': 2230, 'givehim': 1343, 'evil.thou': 1077, 'thisword': 3710, 'provision': 2764, 'etc.': 1052, 'despise': 875, 'thelet': 3520, 'standeth': 3256, 'falleth': 1115, 'judgeth': 1915, 'stumblingblock': 3299, 'andpeace': 153, 'infirmities': 1765, 'learning': 1999, 'thewherefore': 3660, 'another.but': 193, 'agreat': 74, 'spain': 3225, 'saints.for': 2938, 'jerusalem.for': 1872, 'abundanceof': 20, 'christ.i': 589, 'unbelievers': 3874, 'helpers': 1564, 'salute': 2950, 'andronicus': 155, 'helper': 1563, 'speeches': 3235, 'crush': 767, 'sosipater': 3208, 'epistle': 1042, 'precept': 2687, 'morals': 2293, 'daysof': 812, 'fellowship': 1160, 'judgment.for': 1919, 'contentions': 702, 'ofthis': 2485, 'foolishness': 1233, 'wisdom.but': 4079, 'weakness': 3993, 'strong.and': 3297, 'glorieth': 1350, 'trembling.and': 3836, 'glory.but': 1354, 'manthat': 2161, 'god.now': 1375, 'thebecause': 3419, 'pleasures': 2650, 'forand': 1237, 'milk': 2259, 'buildeth': 459, 'butlet': 479, 'preciousstones': 2690, 'hay': 1507, 'practice': 2674, 'eloquence': 1017, 'thestate': 3635, 'thereupon': 3605, 'preachers': 2685, 'lord.therefore': 2087, 'counsels': 729, 'frombut': 1288, 'thouhadst': 3718, 'men.we': 2233, 'abode.and': 9, 'rod': 2893, 'meekness': 2215, 'like': 2047, 'thing.i': 3687, 'absent': 17, 'togetherand': 3773, 'mean': 2202, 'goout': 1406, 'fornicator': 1256, 'drunkard': 962, 'extortioner': 1096, 'unjust': 3881, 'defraud': 842, 'effeminate': 1003, 'harlot': 1485, 'sinneth': 3145, 'glorify': 1351, 'woman.but': 4105, 'oneanother': 2505, 'party': 2565, 'theirchildren': 3502, 'servitude': 3056, 'god.let': 1374, 'bondman': 400, 'wife.but': 4060, 'thefashion': 3466, 'solicitude': 3186, 'thinketh': 3695, 'tohis': 3779, 'mycounsel': 2348, 'lords': 2092, 'andwe': 171, 'idol': 1734, 'shallwe': 3067, 'become': 317, 'astumblingblock': 259, 'hindrance': 1631, 'therest': 3603, 'hadno': 1458, 'take': 3351, 'fruit.if': 1299, 'shouldlive': 3098, 'dispensation': 906, 'ofall': 2439, 'law.to': 1989, 'prize': 2730, 'one.i': 2503, 'subjection': 3302, 'favours': 1146, 'fly': 1222, 'idolaters': 1735, 'committedfornication': 657, 'correction': 721, 'ofdevils': 2444, 'thereof.if': 3598, 'thanksgiving': 3385, 'spoken': 3245, 'god.be': 1364, 'ordinances': 2519, 'bald': 285, 'faithful.but': 1110, 'lord.for': 2079, 'god.you': 1383, 'it.for': 1841, 'abuses': 22, 'hungry': 1716, 'prove': 2758, 'allowance': 91, 'church.for': 595, 'diversities': 916, 'ministries': 2270, 'member': 2222, 'smelling': 3167, 'schism': 2990, 'it.now': 1844, 'governments': 1409, 'interpretations': 1802, 'rejoiceth': 2825, 'prophecies': 2744, 'glass': 1348, 'butthe': 481, 'toprophesy': 3795, 'pipe': 2633, 'harp': 1488, 'battle': 302, 'plain': 2646, 'hemay': 1567, 'prayeth': 2681, 'liturgy': 2058, 'prefers': 2694, 'astrange': 257, 'lord.wherefore': 2088, 'infidels': 1763, 'peace.for': 2584, 'saints.let': 2939, 'risen': 2878, 'soulsof': 3215, 'afflictions': 62, 'tomorrow': 3785, 'bare': 295, 'rest.but': 2855, 'possess': 2662, 'immortality': 1745, 'victory': 3919, 'made.and': 2116, 'throughand': 3732, 'sincerity': 3141, 'thesaints': 3613, 'mercies': 2239, 'life.but': 2032, 'dangers': 786, 'insimplicity': 1793, 'sectaries': 3013, 'byhim': 487, 'pledge': 2651, 'grief': 1436, 'rebuke': 2808, 'comforthim': 645, 'experiment': 1094, 'devices.and': 882, 'sufficiency': 3315, 'killeth': 1937, 'aboundeth': 13, 'whichremaineth': 4033, 'senses': 3040, 'dishonesty': 903, 'earthen': 990, 'outward': 2535, 'inward': 1811, 'ourtribulation': 2532, 'weightof': 4004, 'habitation': 1456, 'trust': 3854, 'behalf': 337, 'presseth': 2703, 'judging': 1916, 'relation': 2827, 'ambassadors': 105, 'dayof': 807, 'distresses': 912, 'longsuffering': 2072, 'sweetness': 3334, 'rejoicing': 2826, 'concord': 672, 'fears': 1150, 'ofjoy': 2466, 'poverty': 2669, 'entreaty': 1040, 'begging': 329, 'advice': 55, 'want': 3959, 'thattheir': 3402, 'diligent': 891, 'macedonians': 2114, 'remaineth': 2833, 'growth': 1446, 'fruitsof': 1301, 'theby': 3427, 'proof': 2742, 'mildness': 2258, 'weapons': 3995, 'warfare': 3964, 'fortifications': 1266, 'readiness': 2803, 'compare': 665, 'themeasure': 3545, 'hand.but': 1467, 'folly': 1229, 'jealousy': 1863, 'chaste': 567, 'regions': 2821, 'works.i': 4131, 'meas': 2207, 'face.i': 1103, 'dare': 787, 'i.': 1730, 'deaths': 827, 'beaten': 311, 'rods': 2894, 'sea.in': 3001, 'perils': 2602, 'basket': 300, 'andso': 160, 'hands.the': 1479, 'revelations': 2861, 'lord.i': 2081, 'aone': 201, 'paradise': 2555, 'greatness': 1428, 'trials': 3838, 'reproaches': 2847, 'persecutions': 2608, 'children.but': 580, 'truth.for': 3859, 'ceremonies': 544, 'calumny': 501, 'conversation': 709, 'past': 2572, 'progress': 2738, 'arabia': 214, 'inbut': 1749, 'withand': 4083, 'unawares': 3873, 'contrariwise': 707, 'consequence': 692, 'argument': 217, 'circumcision.and': 600, 'senseless': 3039, 'galatians': 1312, 'abraham.and': 16, 'acurse': 36, 'effect.for': 1002, 'mediator': 2213, 'aservant': 234, 'manifold': 2151, 'rites': 2881, 'sons.and': 3197, 'anheir': 187, 'elements': 1012, 'festivals': 1164, 'afraid': 64, 'bondwoman': 403, 'affinity': 59, 'husband.now': 1720, 'freedom': 1282, 'justice.for': 1926, 'serve': 3054, 'againstthe': 68, 'luxury': 2109, 'enmities': 1035, 'quarrels': 2781, 'revellings': 2862, 'modesty': 2281, 'thevices': 3654, 'communicate': 658, 'soweth': 3223, 'hand.for': 1468, 'lordfor': 2090, 'worship': 4144, 'prudence': 2767, 'cease': 539, 'knowledgeof': 1962, 'principality': 2722, 'workmanship': 4127, 'aliens': 84, 'partition': 2562, 'himself.and': 1623, 'father.now': 1134, 'foreigners': 1243, 'lord.in': 2082, 'whichis': 4032, 'ofwhich': 2491, 'glory.for': 1355, 'unity': 3880, 'captivity': 518, 'captive': 516, 'theheavens': 3495, 'thefulness': 3482, 'craftiness': 749, 'increase': 1755, 'lifeof': 2036, 'proceed': 2731, 'isgood': 1820, 'grieve': 1437, 'clamour': 613, 'forgiven': 1246, 'andtruth': 169, 'evento': 1061, 'hymns': 1725, 'melody': 2220, 'christ.let': 590, 'headof': 1512, 'thewives': 3664, 'laver': 1985, 'discipline': 899, 'theservants': 3624, 'heart.with': 1529, 'deceits': 832, 'wrestling': 4154, 'resist': 2850, 'breastplate': 435, 'shield': 3087, 'darts': 791, 'helmet': 1561, 'supplication': 3325, 'watching': 3979, 'ambassador': 104, 'chain': 547, 'remembrance': 2837, 'joy.for': 1905, 'inpossession': 1787, 'perdition': 2597, 'conflict': 687, 'fulfil': 1302, 'man.he': 2142, 'deathof': 826, 'murmurings': 2344, 'blameless': 374, 'lights': 2046, 'ofyour': 2494, 'waswanting': 3975, 'thetribe': 3650, 'dung': 966, 'press': 2702, 'belly': 345, 'lowness': 2103, 'beg': 327, 'petitions': 2616, 'morality': 2292, 'dress': 955, 'selling': 3032, 'vows': 3947, 'offices': 2455, 'conduct': 678, 'commands': 653, 'study': 3298, 'toyour': 3816, 'account.but': 27, 'saint': 2936, 'jesus.the': 1877, 'exhortations': 1091, 'itcontains': 1848, 'chapterthem': 560, 'fellow': 1159, 'continue': 705, 'inall': 1747, 'loftiness': 2069, 'faithwhich': 1112, 'himself.let': 1624, 'sabbaths': 2922, 'newmoons': 2396, 'carriers': 523, 'betwixt': 361, 'ancient': 122, 'joints': 1890, 'andbands': 128, 'god.if': 1372, 'invention': 1810, 'withhis': 4089, 'thebowels': 3423, 'obey': 2427, 'ofinheritance': 2464, 'withal': 4081, 'read': 2802, 'collection': 635, 'sentences': 3043, 'wordin': 4118, 'pattern': 2579, 'entrance': 1038, 'flattery': 1205, 'ceasing': 540, 'thepresence': 3582, 'multiply': 2333, 'avenger': 274, 'butbut': 477, 'endeavour': 1027, 'themwho': 3561, 'night.but': 2401, 'refrain': 2816, 'thecoming': 3435, 'day.wherefore': 805, 'empire': 1024, 'antichrist': 198, 'c.': 493, 'repetition': 2843, ']': 0, 'theman': 3541, 'thebrightness': 3425, 'seduction': 3017, 'thelove': 3524, 'whohath': 4044, 'confirm': 684, 'thegood': 3486, 'fables': 1101, 'theunjust': 3652, 'wickedand': 4054, 'transgressors': 3824, 'liars': 2023, 'blasphemer': 376, 'persecutor': 2609, 'toall': 3763, 'supplications': 3326, 'station': 3262, 'adorning': 46, 'godliness': 1386, 'works.let': 4132, 'truth.a': 3857, 'behaviour': 338, 'insubjection': 1798, 'greedy': 1432, 'lucre': 2104, 'degree': 843, 'allkind': 87, 'proper': 2743, 'command': 648, 'teach': 3358, 'grandchildren': 1416, 'wanton': 3961, 'prejudice': 2695, 'destitute': 876, 'thesnare': 3628, 'fight': 1178, 'spot': 3246, 'rich': 2866, 'store': 3281, 'character': 561, 'forefathers': 1240, 'knowest': 1958, 'delusions': 848, 'husbandman': 1721, 'hewill': 1593, 'lord.the': 2085, 'profane': 2733, 'ofsilver': 2478, 'pursue': 2778, 'lovers': 2102, 'proud': 2757, 'blasphemers': 377, 'kindness': 1939, 'traitors': 3820, 'atthe': 268, 'andwhich': 173, 'infancy': 1760, 'theliving': 3522, 'entreat': 1039, 'luke': 2105, 'comest': 641, 'coppersmith': 713, 'principal': 2721, 'saviour.for': 2976, 'everycity': 1070, 'riot': 2876, 'gentle': 1333, 'continent': 704, 'embracing': 1020, 'attire': 269, 'theirhusbands': 3506, 'obedient': 2426, 'integrity': 1799, 'iniquityand': 1778, 'admonition': 40, 'tenderness': 3373, 'instructions': 1796, 'points': 2655, 'stead': 3266, 'fleshand': 1211, 'count': 730, 'partner': 2563, 'excellence': 1085, 'perseverance': 2611, 'myand': 2346, 'fire.but': 1191, 'sceptre': 2989, 'vesture': 3915, 'will.for': 4064, 'speak.but': 3228, 'atestimony': 264, 'provocation': 2765, 'ways.as': 3991, 'thatnone': 3396, 'provoke': 2766, 'moses.and': 2305, 'carcasses': 519, 'hisrest': 1656, 'them.of': 3532, 'ihave': 1741, 'works.and': 4130, 'marrow': 2173, 'ofof': 2475, 'briers': 445, 'burnt.but': 469, 'refuge': 2817, 'priestfor': 2712, 'priesthood': 2713, 'melchisedech': 2219, 'salem': 2946, 'genealogy': 1324, 'downin': 949, 'thepriesthood': 3583, 'perfection': 2600, 'aside': 238, 'bringing': 451, 'surety': 3328, 'testament.and': 3379, 'functions': 1305, 'themtogether': 3559, 'father.for': 1133, 'holies': 1671, 'totheir': 3803, 'tribe.who': 3840, 'triumphant': 3848, 'laws': 1992, 'him.because': 1603, 'more.now': 2296, 'holyof': 1676, 'censer': 542, 'pot': 2665, 'cherubims': 573, 'thepropitiatory': 3590, 'sacrifices.but': 2929, 'calves': 502, 'ransom': 2799, 'ashes': 235, 'heifer': 1554, 'cleansing': 617, 'eternal': 1053, 'wool': 4114, 'likemanner': 2048, 'blood.and': 388, 'violent': 3930, 'souls.for': 3213, 'thedestruction': 3445, 'thesecond': 3620, 'thesacrifice': 3612, 'nooccasion': 2408, 'god.in': 1373, 'oblations': 2429, 'awaythe': 277, 'anoblation': 190, 'entering': 1037, 'theholies': 3496, 'afire': 63, 'unclean': 3875, 'belongeth': 346, 'soul.but': 3210, 'cain': 494, 'histranslation': 1661, 'placewhich': 2643, 'foundations': 1274, 'earth.for': 989, 'top': 3792, 'mention': 2235, 'fierceness': 1174, 'them.by': 3527, 'walls': 3957, 'mouths': 2329, 'lions': 2055, 'armies': 222, 'mockeries': 2280, 'moreover': 2299, 'wandering': 3958, 'deserts': 866, 'dens': 853, 'caves': 538, 'weight': 4003, 'opposition': 2514, 'fromsinners': 1292, 'chastisement': 569, 'mess': 2246, 'whirlwind': 4040, 'warning': 3965, 'tim': 3753, 'thee.so': 3455, 'today': 3768, 'them.we': 3538, 'camp': 508, 'joyand': 1906, 'thegreat': 3490, 'pastor': 2573, 'chapter': 557, 'martyrdom': 2175, 'doers': 929, 'nothing.but': 2417, 'wave': 3984, 'wind.therefore': 4070, 'double': 942, 'exaltation': 1081, 'flower': 1221, 'beauty': 312, 'him.let': 1610, 'change': 555, 'hearer': 1520, 'doer': 928, 'thework': 3669, 'histongue': 1659, 'fatherless': 1138, 'hearken': 1524, 'oppress': 2515, 'royal': 2908, 'transgressors.and': 3825, 'observing': 2431, 'lawgiver': 1990, 'greatand': 1424, 'god.do': 1367, 'bridle': 444, 'horses': 1688, 'theforce': 3477, 'wood.and': 4113, 'nativity': 2381, 'god.out': 1376, 'cursing': 776, 'mybrethren': 2347, 'hole': 1669, 'sweet': 3333, 'ofmercy': 2472, 'admonitions': 41, 'detraction': 881, 'friendship': 1286, 'covet': 746, 'laughter': 1984, 'buta': 474, 'traffic': 3819, 'howl': 1706, 'miseries': 2275, 'crieth': 758, 'themhath': 3546, 'lord.behold': 2077, 'job': 1885, 'unction': 3876, 'controversy': 708, 'lordshall': 2094, 'months.and': 2288, 'amultitude': 117, 'superiors': 3321, 'cappadocia': 514, 'glories': 1349, 'girt': 1341, 'converse': 710, 'endureth': 1031, 'submission': 3303, 'babes': 280, 'himshall': 1625, 'thehead': 3494, 'virtues': 3935, 'evildoers': 1078, 'good.for': 1400, 'mouth.who': 2328, 'sara': 2963, 'ofanother': 2441, 'blessing.for': 383, 'filth': 1183, 'christ.the': 591, 'theother': 3572, 'dirt': 894, 'thewine': 3663, 'banquetings': 291, 'worshipping': 4145, 'thatin': 3393, 'corrupt': 722, 'glory.in': 1356, 'humble': 1710, 'visitation': 3939, 'beseeching': 354, 'practices': 2675, 'abstinence': 18, 'time.for': 3756, 'mount.and': 2316, 'divines': 918, 'sodomites': 3178, 'works.the': 4133, 'lust': 2107, 'ofuncleanness': 2489, 'government': 1408, 'delights': 845, 'spots': 3247, 'balaam': 283, 'bosor': 412, 'fountains': 1276, 'mist': 2278, 'escape': 1049, 'theknowledge': 3515, 'thanthe': 3387, 'dog': 930, 'vomit': 3945, 'beginningof': 333, 'day.the': 803, 'melt': 2221, 'inwhich': 1812, 'unwise': 3884, 'trinity': 3847, 'incarnation': 1750, 'hiscommandments': 1638, 'declare': 835, 'declaration': 834, 'sin.if': 3139, 'oursins': 2531, 'iniquity.if': 1777, 'hisword': 1663, 'indarkness': 1757, 'instruction': 1795, 'butas': 475, 'ithath': 1849, 'share': 3076, 'healso': 1516, 'himthere': 1628, 'deceive': 833, 'isjust': 1822, 'truth.in': 3861, 'hissight.and': 1657, 'despair': 874, 'thatthis': 3404, 'thatof': 3397, 'son.he': 3192, 'life.he': 2034, 'interpreters': 1803, 'ingratitude': 1767, 'forhimself': 1250, 'thegeneration': 3484, 'toucheth': 3807, 'allthe': 92, 'situation': 3156, 'ofevery': 2445, 'enemies.for': 1033, 'paper': 2550, 'chapterthe': 559, 'walkest': 3953, 'theyshould': 3680, 'god.to': 1380, 'sovereign': 3220, 'gomorrha': 1396, 'blaspheme': 375, 'banquets': 292, 'autumn': 272, 'ever.now': 1067, 'seventh': 3061, 'complaints': 668, 'communion': 660, 'thepleasures': 3577, 'sorts': 3206, 'magnificence': 2122, 'banishment': 289, 'alphabet': 99, 'candlesticks': 510, 'girdle.and': 1339, 'canstnot': 512, 'lifewhich': 2038, 'dwellest': 972, 'balac': 284, 'mouth.he': 2325, 'brass.i': 426, 'thewoman': 3665, 'jezabel': 1883, 'fromtheir': 1294, 'reins': 2823, 'depths': 859, 'provinces': 2763, 'thyworks': 3750, 'god.have': 1369, 'angels.he': 184, 'pillar': 2630, 'name.he': 2373, 'source': 3217, 'sayest': 2981, 'bemade': 348, 'nakedness': 2370, 'chastise': 568, 'myvoice': 2365, 'hereafter.and': 1581, 'jasper': 1862, 'rainbow': 2793, 'crowns': 766, 'gold.and': 1395, 'lightnings': 2045, 'crystal': 770, 'lion': 2054, 'theface': 3465, 'aneagle': 180, 'roundabout': 2907, 'andpower': 154, 'adoration': 44, 'seals': 3004, 'horns': 1685, 'throne.and': 3730, 'harps': 1489, 'vials': 3916, 'odours': 2438, 'canticle': 513, 'andhast': 140, 'thethrone': 3647, 'thunder': 3734, 'horse': 1686, 'rider': 2870, 'plagues': 2645, 'livingcreatures': 2062, 'thefourth': 3480, 'thesouls': 3632, 'altars.and': 102, 'wind.and': 4069, 'islands': 1824, 'places.and': 2642, 'therich': 3606, 'wrathof': 4153, 'cornersof': 720, 'tree.and': 3833, 'rising': 2880, 'israel.of': 1832, 'ofthousand': 2487, 'lamb.and': 1970, 'theseare': 3619, 'shalldwell': 3064, 'trumpets.and': 3853, 'smoke': 3168, 'angel.and': 182, 'thunders': 3735, 'earthquake.and': 992, 'trumpets': 3852, 'trumpet.and': 3851, 'torch': 3796, 'wormwood': 4143, 'eagle': 978, 'theinhabitants': 3501, 'bottomless': 415, 'scorpions': 2992, 'size': 3158, 'sprung': 3249, 'poison': 2656, 'animals': 188, 'shapes': 3075, 'theirfaces': 3503, 'breastplates': 436, 'noise': 2406, 'oftheir': 2483, 'chariots': 565, 'tails': 3350, 'intheir': 1806, 'isone': 1827, 'river': 2882, 'brimstone': 447, 'pillars': 2631, 'rightfoot': 2873, 'roareth': 2884, 'timeshall': 3760, 'methe': 2249, 'ate': 263, 'honey': 1678, 'itnot': 1851, 'thismanner': 3705, 'tenthpart': 3375, 'timeof': 3758, 'tail': 3349, 'castthem': 530, 'dragon': 951, 'michael': 2251, 'fought': 1272, 'accuser': 29, 'thetestimony': 3642, 'persecutors': 2610, 'leopard': 2010, 'thedragon': 3449, 'power.and': 2671, 'wound': 4148, 'magicians': 2120, 'healed.and': 1514, 'slain.and': 3161, 'bondmen': 401, 'thenumber': 3570, 'ofhim': 2460, 'wicked.and': 4053, 'harps.and': 1490, 'madeheaven': 2117, 'ofher': 2459, 'abominations': 11, 'crimes': 760, 'description': 862, 'forehead': 1241, 'sightof': 3115, 'sickle': 3106, 'clusters': 627, 'thetabernacle': 3639, 'theearth.and': 3461, 'sore': 3199, 'sun.and': 3320, 'god.behold': 1365, 'citiesof': 605, 'wrath.and': 4151, 'plague': 2644, 'drunk': 961, 'filthiness': 1184, 'fornication.and': 1254, 'sawest': 2979, 'upout': 3889, 'tyranny': 3870, 'destruction.and': 879, 'design': 867, 'isfallen': 1819, 'holdof': 1668, 'merchants': 2238, 'her.as': 1574, 'alas': 81, 'merchandise': 2236, 'silk': 3123, 'ivory': 1856, 'preciousstone': 2689, 'marble': 2167, 'cinnamon': 598, 'flour': 1219, 'andchariots': 131, 'mariners': 2168, 'prices': 2707, 'craftsman': 750, 'allnations': 90, 'earth.after': 986, 'herself.and': 1587, 'consideration': 693, 'ofiron': 2465, 'winepress': 4075, 'thehorse': 3497, 'gog': 1391, 'magog': 2123, 'breadth': 430, 'thecamp': 3428, 'fire.i': 1192, 'more.their': 2297, 'thirsteth': 3698, 'sorcerers': 3198, 'thegates': 3483, 'north': 2411, 'wall.and': 3956, 'breadththereof': 431, 'sapphire': 2962, 'emerald': 1021, 'fifth': 1175, 'sardonyx': 2965, 'sardius': 2964, 'beryl': 352, 'topaz': 3794, 'twelfth': 3866, 'oflife': 2468, 'sides': 3110, 'theriver': 3607, 'nations.and': 2380, 'book.and': 406, 'thisbook': 3702, 'duration': 968, 'predictions': 2691, 'greatpart': 1429, 'metaphors': 2248, 'attempts': 267, 'events': 1062, 'ad': 37, 'toevery': 3771, 'lethim': 2017, 'prophecyof': 2746}\n",
      "# of vocabulary: 4199\n",
      "--\n",
      "BoW:\n",
      "[[5.68843870e-03 4.06317050e-04 8.12634100e-04 ... 4.06317050e-04\n",
      "  2.43790230e-03 8.12634100e-04]\n",
      " [2.32143017e-03 9.28572067e-05 5.57143240e-04 ... 8.35714860e-04\n",
      "  2.69285899e-03 1.11428648e-03]]\n",
      "--\n",
      "    account  account.but  accusation   accuser  accusers     achaz     acity  \\\n",
      "0  0.005688     0.000406    0.000813  0.000406  0.002438  0.000406  0.000406   \n",
      "1  0.002321     0.000093    0.000557  0.000186  0.000093  0.001764  0.000186   \n",
      "\n",
      "   acquaintance       act    action  ...    yousay  youshall     youth  \\\n",
      "0      0.000406  0.001219  0.000406  ...  0.000406  0.000813  0.001625   \n",
      "1      0.000371  0.000929  0.000186  ...  0.000093  0.000650  0.003993   \n",
      "\n",
      "   youth.and   zabulon  zacharias   zacheus      zara      zeal  zorobabel  \n",
      "0   0.000406  0.001219   0.000406  0.000813  0.000406  0.002438   0.000813  \n",
      "1   0.000186  0.002507   0.001857  0.000093  0.000836  0.002693   0.001114  \n",
      "\n",
      "[2 rows x 4173 columns]\n"
     ]
    },
    {
     "name": "stderr",
     "output_type": "stream",
     "text": [
      "c:\\MyFiles\\学校関係\\B2\\DS応用\\.venv\\Lib\\site-packages\\IPython\\core\\pylabtools.py:170: UserWarning: Glyph 21336 (\\N{CJK UNIFIED IDEOGRAPH-5358}) missing from font(s) DejaVu Sans.\n",
      "  fig.canvas.print_figure(bytes_io, **kw)\n",
      "c:\\MyFiles\\学校関係\\B2\\DS応用\\.venv\\Lib\\site-packages\\IPython\\core\\pylabtools.py:170: UserWarning: Glyph 35486 (\\N{CJK UNIFIED IDEOGRAPH-8A9E}) missing from font(s) DejaVu Sans.\n",
      "  fig.canvas.print_figure(bytes_io, **kw)\n",
      "c:\\MyFiles\\学校関係\\B2\\DS応用\\.venv\\Lib\\site-packages\\IPython\\core\\pylabtools.py:170: UserWarning: Glyph 25991 (\\N{CJK UNIFIED IDEOGRAPH-6587}) missing from font(s) DejaVu Sans.\n",
      "  fig.canvas.print_figure(bytes_io, **kw)\n",
      "c:\\MyFiles\\学校関係\\B2\\DS応用\\.venv\\Lib\\site-packages\\IPython\\core\\pylabtools.py:170: UserWarning: Glyph 26360 (\\N{CJK UNIFIED IDEOGRAPH-66F8}) missing from font(s) DejaVu Sans.\n",
      "  fig.canvas.print_figure(bytes_io, **kw)\n"
     ]
    },
    {
     "data": {
      "image/png": "[encoded data removed]",
      "text/plain": [
       "<Figure size 640x480 with 2 Axes>"
      ]
     },
     "metadata": {},
     "output_type": "display_data"
    },
    {
     "name": "stdout",
     "output_type": "stream",
     "text": [
      "\n",
      "Document 0: Words with TF-IDF score >= 0.1\n",
      "i: 0.4689\n",
      "god: 0.3429\n",
      "man: 0.3056\n",
      "jesus: 0.2946\n",
      "things: 0.2641\n",
      "lord: 0.2393\n",
      "christ: 0.1654\n",
      "thou: 0.1406\n",
      "men: 0.1329\n",
      "father: 0.1182\n",
      "hath: 0.1182\n",
      "son: 0.1134\n",
      "day: 0.1040\n",
      "\n",
      "Document 1: Words with TF-IDF score >= 0.1\n",
      "lord: 0.5726\n",
      "i: 0.3542\n",
      "god: 0.2464\n",
      "thou: 0.2084\n",
      "king: 0.1748\n",
      "man: 0.1710\n",
      "thee: 0.1670\n",
      "son: 0.1575\n",
      "israel: 0.1562\n",
      "people: 0.1561\n",
      "children: 0.1315\n",
      "house: 0.1259\n",
      "day: 0.1255\n",
      "land: 0.1232\n",
      "hath: 0.1224\n",
      "men: 0.1157\n",
      "shalt: 0.1066\n"
     ]
    }
   ],
   "source": [
    "# 旧約、新約それぞれでTF-IDFを計算し、ヒートマップを表示する\n",
    "\n",
    "%matplotlib inline\n",
    "import sys\n",
    "import os\n",
    "from sklearn.feature_extraction.text import TfidfVectorizer\n",
    "import pandas as pd\n",
    "import matplotlib.pyplot as plt\n",
    "import seaborn as sns\n",
    "\n",
    "from tqdm import tqdm\n",
    "from pprint import pprint\n",
    "\n",
    "import nltk\n",
    "from nltk.tokenize import word_tokenize\n",
    "from nltk import pos_tag\n",
    "\n",
    "nltk.download('punkt')\n",
    "nltk.download('punkt_tab')\n",
    "nltk.download('averaged_perceptron_tagger')\n",
    "nltk.download('averaged_perceptron_tagger_eng')\n",
    "\n",
    "def english_tokenize(text):\n",
    "\twords = word_tokenize(text)\n",
    "\ttagged_words = pos_tag(words)\n",
    "\n",
    "\tselected_words = [word for word, pos in tagged_words if pos.startswith(\"NN\")]\n",
    "\n",
    "\treturn selected_words\n",
    "\n",
    "in_path = \"./clean/\" # 入力ディレクトリ\n",
    "\n",
    "if __name__ == '__main__':\n",
    "\n",
    "\t# ファイル・ディレクトリの一覧を取得\n",
    "\tin_dir_all = os.listdir(in_path)\n",
    "\t#ファイルのみの一覧を取得\n",
    "\tfiles = [f for f in in_dir_all if os.path.isfile(os.path.join(in_path, f))]\n",
    "\n",
    "\ttexts = []\n",
    "\tprint()\n",
    "\tfor f in tqdm(files):\n",
    "\t\twith open(os.path.join(in_path, f), encoding=\"utf-8\") as r:\n",
    "\t\t\ts = r.read()\n",
    "\t\t\ts = ''.join(s.splitlines()) # 改行削除\n",
    "\n",
    "\t\ttexts.append(s)\n",
    "\n",
    "\tvec = TfidfVectorizer(tokenizer=english_tokenize, min_df=2, token_pattern=None)\n",
    "\tvec.fit(texts)\n",
    "\n",
    "\tprint(\"\\nVocabulary:\")\n",
    "\tprint(vec.vocabulary_)\n",
    "\tprint(\"# of vocabulary: \" + str(len(vec.vocabulary_)))\n",
    "\n",
    "\tbow = vec.transform(texts)\n",
    "\tprint(\"--\")\n",
    "\tprint(\"BoW:\")\n",
    "\tprint(bow.toarray()[:, 26:])\n",
    "\n",
    "\tbow_pd = pd.DataFrame(bow.toarray()[:, 26:], columns=vec.get_feature_names_out()[26:])\n",
    "\tprint(\"--\")\n",
    "\tprint(bow_pd)\n",
    "\n",
    "\t# ヒートマップ表示\n",
    "\tsns.heatmap(bow.toarray(), robust=True, cmap=\"jet\")\n",
    "\tplt.xlabel(\"単語ID\")\n",
    "\tplt.ylabel(\"文書ID\")\n",
    "\tplt.show()\n",
    "\n",
    "\tthreshold = 0.1  # 例として閾値を0.1に設定\n",
    "\n",
    "\tfor i, row in enumerate(bow.toarray()):\n",
    "\t\tprint(f\"\\nDocument {i}: Words with TF-IDF score >= {threshold}\")\n",
    "\t\t\n",
    "\t\t# 閾値以上の単語のインデックスを取得\n",
    "\t\tvalid_indices = row >= threshold  \n",
    "\t\ttop_words = vec.get_feature_names_out()[valid_indices]\n",
    "\t\ttop_scores = row[valid_indices]\n",
    "\t\t\n",
    "\t\t# 出力\n",
    "\t\tfor word, score in sorted(zip(top_words, top_scores), key=lambda x: x[1], reverse=True):\n",
    "\t\t\tprint(f\"{word}: {score:.4f}\")"
   ]
  },
  {
   "cell_type": "code",
   "execution_count": 13,
   "metadata": {},
   "outputs": [
    {
     "name": "stderr",
     "output_type": "stream",
     "text": [
      "[nltk_data] Downloading package punkt to\n",
      "[nltk_data]     C:\\Users\\twil3\\AppData\\Roaming\\nltk_data...\n",
      "[nltk_data]   Package punkt is already up-to-date!\n",
      "[nltk_data] Downloading package punkt_tab to\n",
      "[nltk_data]     C:\\Users\\twil3\\AppData\\Roaming\\nltk_data...\n",
      "[nltk_data]   Package punkt_tab is already up-to-date!\n",
      "[nltk_data] Downloading package averaged_perceptron_tagger to\n",
      "[nltk_data]     C:\\Users\\twil3\\AppData\\Roaming\\nltk_data...\n",
      "[nltk_data]   Package averaged_perceptron_tagger is already up-to-\n",
      "[nltk_data]       date!\n",
      "[nltk_data] Downloading package averaged_perceptron_tagger_eng to\n",
      "[nltk_data]     C:\\Users\\twil3\\AppData\\Roaming\\nltk_data...\n",
      "[nltk_data]   Package averaged_perceptron_tagger_eng is already up-to-\n",
      "[nltk_data]       date!\n"
     ]
    },
    {
     "name": "stdout",
     "output_type": "stream",
     "text": [
      "\n",
      " -- new --\n",
      "\n"
     ]
    },
    {
     "name": "stderr",
     "output_type": "stream",
     "text": [
      "100%|██████████| 20/20 [00:00<00:00, 3635.21it/s]\n"
     ]
    },
    {
     "name": "stdout",
     "output_type": "stream",
     "text": [
      "\n",
      " -- old --\n",
      "\n"
     ]
    },
    {
     "name": "stderr",
     "output_type": "stream",
     "text": [
      "100%|██████████| 39/39 [00:00<00:00, 1799.42it/s]\n"
     ]
    },
    {
     "name": "stdout",
     "output_type": "stream",
     "text": [
      "\n",
      "--\n",
      "Accurancy (sort by score):\n",
      "train_size: 0.35 -> 97.44%\n",
      "train_size: 0.4 -> 97.22%\n",
      "train_size: 0.45 -> 96.97%\n",
      "train_size: 0.5 -> 96.67%\n",
      "train_size: 0.55 -> 96.3%\n",
      "train_size: 0.6 -> 95.83%\n",
      "train_size: 0.65 -> 95.24%\n",
      "train_size: 0.25 -> 93.33%\n",
      "train_size: 0.75 -> 93.33%\n",
      "train_size: 0.3 -> 92.86%\n",
      "train_size: 0.1 -> 92.59%\n",
      "train_size: 0.15 -> 92.16%\n",
      "train_size: 0.8 -> 91.67%\n",
      "train_size: 0.2 -> 89.58%\n",
      "train_size: 0.7 -> 88.89%\n",
      "train_size: 0.85 -> 88.89%\n",
      "train_size: 0.9 -> 83.33%\n"
     ]
    }
   ],
   "source": [
    "# テキストデータを訓練用と本番用に分けたのち、\n",
    "# BoW, svmを用いて本番用データ内の各章は旧約か新約かどちらに分類されるのかを予測する\n",
    "\n",
    "%matplotlib inline\n",
    "import sys\n",
    "import os\n",
    "import numpy as np\n",
    "from sklearn.feature_extraction.text import TfidfVectorizer\n",
    "import pandas as pd\n",
    "import matplotlib.pyplot as plt\n",
    "import seaborn as sns\n",
    "from tqdm import tqdm\n",
    "from pprint import pprint\n",
    "from sklearn.feature_extraction.text import CountVectorizer\n",
    "from sklearn import svm\n",
    "\n",
    "import nltk\n",
    "from nltk.tokenize import word_tokenize\n",
    "from nltk import pos_tag\n",
    "\n",
    "from sklearn.model_selection import train_test_split\n",
    "from sklearn.svm import SVC\n",
    "from sklearn.metrics import accuracy_score, classification_report\n",
    "\n",
    "nltk.download('punkt')\n",
    "nltk.download('punkt_tab')\n",
    "nltk.download('averaged_perceptron_tagger')\n",
    "nltk.download('averaged_perceptron_tagger_eng')\n",
    "\n",
    "def english_tokenize(text):\n",
    "\twords = word_tokenize(text)\n",
    "\ttagged_words = pos_tag(words)\n",
    "\n",
    "\tselected_words = [word for word, pos in tagged_words if pos.startswith(\"NN\")]\n",
    "\n",
    "\treturn selected_words\n",
    "\n",
    "in_path = \"./clean/\" # 入力ディレクトリ\n",
    "\n",
    "if __name__ == '__main__':\n",
    "\n",
    "\t# ファイル・ディレクトリの一覧を取得\n",
    "\tin_here_all = os.listdir(in_path)\n",
    "\t\n",
    "\t# ディレクトリのみの一覧を取得\n",
    "\tdirs = [d for d in in_here_all if os.path.isdir(os.path.join(in_path, d))]\n",
    "\n",
    "\ttexts = [] # わかち書きテキスト\n",
    "\tfilenames = [] # ファイル名\n",
    "\n",
    "\tlabels = [] # ラベル\n",
    "\t\n",
    "\tfor dir in dirs:\n",
    "\t\tprint(f\"\\n -- {dir} --\\n\")\n",
    "\n",
    "\t\t# ファイル・ディレクトリの一覧を取得\n",
    "\t\tin_dir_all = os.listdir(os.path.join(in_path, dir))\n",
    "\n",
    "\t\t# ファイルのみの一覧を取得\n",
    "\t\tfiles = [f for f in in_dir_all if os.path.isfile(os.path.join(f\"{in_path}/{dir}\", f))]\n",
    "\n",
    "\t\tfor file in tqdm(files):\n",
    "\t\t\tfilenames.append(f\"{in_path}{dir}/{file}\")\n",
    "\n",
    "\t\t\t# ラベルの作成\n",
    "\t\t\t# 01_ではじまる文書はラベル(0)\n",
    "\t\t\tif dir.startswith('new'):\n",
    "\t\t\t\tlabels.append(1)\n",
    "\t\t\t# それ意外の文書はラベル(1)\n",
    "\t\t\telse:  \n",
    "\t\t\t\tlabels.append(2)\n",
    "\n",
    "\t\t\twith open(os.path.join(f\"{in_path}/{dir}\", file), encoding=\"utf-8\") as r:\n",
    "\t\t\t\ts = r.read()\n",
    "\t\t\t\ts = ''.join(s.splitlines()) # 改行削除\n",
    "\t\t\ttexts.append(s)\n",
    "\n",
    "\t# BOWの生成\n",
    "\n",
    "\tvec = CountVectorizer(tokenizer=english_tokenize, min_df=2, token_pattern=None)\t\n",
    "\tvec.fit(texts)\n",
    "\tbow = vec.transform(texts)\n",
    "\tbow_array = bow.toarray()\n",
    "\n",
    "\taccurancy_list = {}\n",
    "\n",
    "\t# データセット（bow_array, labels）を学習用と評価用に分割\n",
    "\t# data_train: 学習用データ\n",
    "\t# data_test: 評価用データ\n",
    "\t# label_train: 学習用データの教師ラベル\n",
    "\t# label_test: 評価用データの教師ラベル\n",
    "\t# filename_train: 学習用データのファイル名\n",
    "\t# filename_test: 評価用データのファイル名\n",
    "\tfor size in np.linspace(0.1, 0.9, 17):\n",
    "\t\tdata_train, data_test, label_train, label_test, filename_train, filename_test = train_test_split(bow_array, labels, filenames, shuffle=True, train_size=size, random_state=0)\n",
    "\n",
    "\t\t# 線形SVM\n",
    "\t\tclassifier = svm.LinearSVC()\n",
    "\t\t# モデルの学習\n",
    "\t\tclassifier.fit(data_train, label_train)\n",
    "\n",
    "\t\t# 学習したモデルを用いた識別\n",
    "\t\tresult = classifier.predict(data_test)\n",
    "\t\t# print(\"\\n--\")\n",
    "\t\t# print(f\"Classification result: (train_size -> {size:.1f})\")\n",
    "\t\t# 結果を確認（正解 > 結果）\n",
    "\t\t# for f, c, r in zip(filename_test, label_test, result):\n",
    "\t\t# \tprint(f +\": \" + str(c) + \" -> \" + str(r))\n",
    "\n",
    "\t\t# 正解率の計算\n",
    "\t\taccurancy_list[round(size, 2)] = round(accuracy_score(label_test, result)*100, 2)\n",
    "\t\n",
    "\tprint(\"\\n--\")\n",
    "\tprint(\"Accurancy (sort by score):\")\n",
    "\tfor size, score in sorted(accurancy_list.items(), key=lambda x: x[1], reverse=True):\n",
    "\t\tprint(f\"train_size: {size} -> {score}%\")"
   ]
  }
 ],
 "metadata": {
  "kernelspec": {
   "display_name": ".venv",
   "language": "python",
   "name": "python3"
  },
  "language_info": {
   "codemirror_mode": {
    "name": "ipython",
    "version": 3
   },
   "file_extension": ".py",
   "mimetype": "text/x-python",
   "name": "python",
   "nbconvert_exporter": "python",
   "pygments_lexer": "ipython3",
   "version": "3.11.9"
  }
 },
 "nbformat": 4,
 "nbformat_minor": 2
}
